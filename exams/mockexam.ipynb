{
 "cells": [
  {
   "cell_type": "markdown",
   "metadata": {},
   "source": [
    "# MATH50003 Numerical Analysis (2024–2025) Mock Computer-based Exam"
   ]
  },
  {
   "cell_type": "markdown",
   "metadata": {},
   "source": [
    "Instructions:"
   ]
  },
  {
   "cell_type": "markdown",
   "metadata": {},
   "source": [
    "1. You have 15 mins to read the exam beginning when the invigilators instruct. **DO NOT** write or type anything during this time.\n",
    "2. You have 1 hour to complete the exam beginning when the invigilators instruct. You **MUST STOP** typing when the time is complete.\n",
    "3. When finished, save your work and close Visual Studio Code.\n",
    "4. Re-access WISEflow in SchoolYear and click on ‘Upload Paper’ à From Computer.\n",
    "6. You can now complete submission by clicking the green button \"Click here to submit\".\n",
    "6. If uploading fails please contact an invigilator."
   ]
  },
  {
   "cell_type": "markdown",
   "metadata": {},
   "source": [
    "Instructions for the exam:"
   ]
  },
  {
   "cell_type": "markdown",
   "metadata": {},
   "source": [
    "1. For each problem, replace the `# TODO` to complete the question.\n",
    "The unit tests are provided to help you test your answers, but do not guarantee that the answer is correct.\n",
    "2. Problems are marked A/B/C to indicate difficulty (\"A\" being most difficult).\n",
    "3. All questions are worth 10 marks. Partial credit will be awarded for reasonable attempts or comments outlining a solution even if the tests\n",
    "are not passed.\n",
    "3. If you have technical queries please contact an invigilator.\n",
    "4. You may use existing code from the module Github page\n",
    "5. You **MUST NOT** ask for help online or\n",
    "communicate with others within or outside the module.\n",
    "Failure to follow these rules will be considered academic misconduct.\n",
    "6. **NO USAGE of AI tools** such as ChatGPT or GitHub Co-Pilot."
   ]
  },
  {
   "cell_type": "markdown",
   "metadata": {},
   "source": [
    "You should use the following packages:"
   ]
  },
  {
   "cell_type": "code",
   "execution_count": 2,
   "metadata": {},
   "outputs": [],
   "source": [
    "using LinearAlgebra, SetRounding, Test"
   ]
  },
  {
   "cell_type": "markdown",
   "metadata": {},
   "source": [
    "**WARNING** It may be necessary to restart the kernel if issues arise. Remember to reload the packages\n",
    "when you do so."
   ]
  },
  {
   "cell_type": "markdown",
   "metadata": {},
   "source": [
    "-----"
   ]
  },
  {
   "cell_type": "markdown",
   "metadata": {},
   "source": [
    "**Problem 1 (C)** Use second-order divided differences\n",
    "with an appropriately chosen $h$ to approximate the second derivative of\n",
    "$$\n",
    "f(x) = \\cos(x^2)\n",
    "$$\n",
    "at $x = 0.1$ with an error less than $10^{-5}$. Note you are not required to choose a \"quasi-optimal\"\n",
    "value for $h$, as long as your choice achieves the specified accuracy."
   ]
  },
  {
   "cell_type": "code",
   "execution_count": 10,
   "metadata": {},
   "outputs": [
    {
     "data": {
      "text/plain": [
       "\u001b[32m\u001b[1mTest Passed\u001b[22m\u001b[39m"
      ]
     },
     "execution_count": 10,
     "metadata": {},
     "output_type": "execute_result"
    }
   ],
   "source": [
    "function fd2(x)\n",
    "    # TODO: implement a second-order finite-difference rule\n",
    "    # to approximate f''(x)\n",
    "    # for f(x) = cos(x^2)\n",
    "    # with step-size h chosen to get sufficient accuracy\n",
    "    f = x -> cos(x ^ 2)\n",
    "    h = 10.0 ^ (-5)\n",
    "    (f(x + h) - 2 * f(x) + f(x - h)) / h^2\n",
    "end\n",
    "\n",
    "\n",
    "@test abs(fd2(0.1) + 2*sin(0.1^2) + 4*0.1^2*cos(0.1^2)) ≤ 1E-5"
   ]
  },
  {
   "cell_type": "markdown",
   "metadata": {},
   "source": [
    "**Problem 2 (B)** Implement powers of dual numbers to a float $(a+bϵ)^c$ and\n",
    "to a dual number $(a+bϵ)^{c+dϵ}$, in a way that is consistent with a \"dual-extension\",\n",
    "e.g. if $f(x) = x^{3/2}$ or $f(x) = x^x$ then we want to define the power function so that\n",
    "in both cases $f(a + bϵ) = f(a) + bf'(a)ϵ$.\n",
    "Hint: for the second part recall $x^y = \\exp(y \\log x)$ which reduces the problem\n",
    "to single-argument functions where the \"dual-extension\" is easy to define."
   ]
  },
  {
   "cell_type": "code",
   "execution_count": 18,
   "metadata": {},
   "outputs": [
    {
     "data": {
      "text/plain": [
       "\u001b[32m\u001b[1mTest Passed\u001b[22m\u001b[39m"
      ]
     },
     "execution_count": 18,
     "metadata": {},
     "output_type": "execute_result"
    }
   ],
   "source": [
    "# Represents a + b*ε\n",
    "struct Dual\n",
    "    a\n",
    "    b\n",
    "end\n",
    "\n",
    "import Base: ^, *, isapprox\n",
    "*(x::Dual, y::Dual) = Dual(x.a*y.a, x.a*y.b + x.b*y.a)\n",
    "isapprox(x::Dual, y::Dual) = x.a ≈ y.a && x.b ≈ y.b # used in tests\n",
    "\n",
    "function ^(x::Dual, c::Real)\n",
    "    # TODO: Implement Dual(a,b)^c returning a Dual whose b-component is consistent\n",
    "    # with differentiation.\n",
    "    a, b = x.a, x.b\n",
    "    Dual(a ^ c, c * a ^ (c - 1) * b)\n",
    "end\n",
    "\n",
    "@test Dual(1.0,2.0)^0.0 == Dual(1.0, 0.0)\n",
    "@test Dual(1.0,2.0)^0.5 == Dual(1.0, 1.0)\n",
    "@test Dual(1.0,2.0)^(-0.5) == Dual(1.0, -1.0)\n",
    "\n",
    "function ^(x::Dual, y::Dual)\n",
    "    # TODO: Implement Dual(a,b)^Dual(c,d), returning a Dual in a way that is consistent with\n",
    "    # differentiation: i.e. for the function f(x) = x^x, f(Dual(2,1)) should return\n",
    "    # Dual(f(2), f′(2)) where f′(x) denotes the derivative of f.\n",
    "    a, b = x.a, x.b\n",
    "    c, d = y.a, y.b\n",
    "    log_part = Dual(log(a), b / a)\n",
    "    power = log_part * y\n",
    "    Dual(exp(power.a), power.b * exp(power.a))\n",
    "\n",
    "end\n",
    "\n",
    "\n",
    "@test Dual(2.0, 1.0) ^ Dual(3.0, 1.0) ≈ Dual(8.0,8*(3/2 + log(2)))"
   ]
  },
  {
   "cell_type": "markdown",
   "metadata": {},
   "source": [
    "**Problem 3 (A)** Consider a 2nd order version of a dual number:\n",
    "$$\n",
    "a + b ϵ_1 + c ϵ_2\n",
    "$$\n",
    "such that\n",
    "$$\n",
    "\\begin{align*}\n",
    "ϵ_1^2 &= ϵ_2, \\\\\n",
    "ϵ_2^2 &= ϵ_1 ϵ_2 =  0.\n",
    "\\end{align*}\n",
    "$$\n",
    "Complete the following implementation supporting `+` and `*`. You may\n",
    "assume `a,b,c` are `Float64`. Hint: you may need to work out on paper\n",
    "how to multiply `(a + b*ϵ_1 + c*ϵ_2)*(d + e*ϵ_1 + f*ϵ_2)` using the\n",
    "relationship above."
   ]
  },
  {
   "cell_type": "code",
   "execution_count": 22,
   "metadata": {},
   "outputs": [
    {
     "data": {
      "text/plain": [
       "\u001b[32m\u001b[1mTest Passed\u001b[22m\u001b[39m"
      ]
     },
     "execution_count": 22,
     "metadata": {},
     "output_type": "execute_result"
    }
   ],
   "source": [
    "import Base: *, +, ^\n",
    "struct Dual2\n",
    "    a\n",
    "    b\n",
    "    c\n",
    "end\n",
    "\n",
    "function +(s::Dual2, t::Dual2)\n",
    "    # TODO: Implement Dual2(...) + Dual2(...), returning a Dual2\n",
    "    Dual2(s.a + t.a, s.b + t.b, s.c + t.c)\n",
    "end\n",
    "\n",
    "function +(s::Dual2, c::Real)\n",
    "    # TODO: Implement Dual2(...) + c, returning a Dual2\n",
    "    s + Dual2(c, 0, 0)\n",
    "end\n",
    "\n",
    "function *(s::Number, c::Dual2)\n",
    "    # TODO: Implement c * Dual2(...), returning a Dual2\n",
    "    Dual2(s * c.a, s * c.b, s * c.c)\n",
    "end\n",
    "\n",
    "function *(s::Dual2, t::Dual2)\n",
    "    # TODO: Implement Dual2(...) * Dual2(...), returning a Dual2\n",
    "    a, b, c = s.a, s.b, s.c\n",
    "    d, e, f = t.a, t.b, t.c\n",
    "    Dual2(a * d, a * e + b * d, a * f + b * e + c * d)\n",
    "\n",
    "end\n",
    "\n",
    "f = x -> x*x*x + 2x + 1\n",
    "x = 0.1\n",
    "@test f(Dual2(x,1.,0.)) == Dual2(f(x), 3x^2+2, 6x / 2)\n",
    "\n",
    "# This has computed the first and second derivatives as\n",
    "# f(x) + f'(x)*ϵ_1 + f''(x)/2*ϵ_2 == (x^3 + x) + (3x^2+1)*ϵ_1 + 6x/2*ϵ_2"
   ]
  },
  {
   "cell_type": "markdown",
   "metadata": {},
   "source": [
    "**Problem 4 (C)**  Implement the function `issub` that determines whether a `Float16` is a sub-normal number.\n",
    "DO NOT use the inbuilt routine `issubnormal`."
   ]
  },
  {
   "cell_type": "code",
   "execution_count": 30,
   "metadata": {},
   "outputs": [
    {
     "data": {
      "text/plain": [
       "\u001b[32m\u001b[1mTest Passed\u001b[22m\u001b[39m"
      ]
     },
     "execution_count": 30,
     "metadata": {},
     "output_type": "execute_result"
    }
   ],
   "source": [
    "function issub(x::Float16)\n",
    "    # TODO: return true if x is a sub-normal float. Otherwise return false\n",
    "    # if exponent bits are 0\n",
    "    num = reinterpret(UInt16, x)\n",
    "    mask = 0b0111110000000000\n",
    "    return mask & num == 0\n",
    "end\n",
    "\n",
    "@test issub(Float16(0))\n",
    "@test issub(nextfloat(Float16(0)))\n",
    "@test issub(prevfloat(Float16(0)))\n",
    "@test !issub(Float16(1))\n",
    "@test !issub(reinterpret(Float16,0b0000010000000000))\n",
    "@test issub(reinterpret(Float16,0b0000001111111111))"
   ]
  },
  {
   "cell_type": "markdown",
   "metadata": {},
   "source": [
    "**Problem 5 (C)** Complete the following function `divideby3(x)` that\n",
    "returns a tuple `a,b` such that `a` is the largest `Float64` less\n",
    "than or equal to `x/3` and `b` is the smallest `Float64` greater than or equal to `x/3`,\n",
    "using the `setrounding` function. You may assume the input is a `Float64`."
   ]
  },
  {
   "cell_type": "code",
   "execution_count": 33,
   "metadata": {},
   "outputs": [
    {
     "data": {
      "text/plain": [
       "\u001b[33m\u001b[1mTest Broken\u001b[22m\u001b[39m\n",
       "  Expression: b == nextfloat(a)"
      ]
     },
     "execution_count": 33,
     "metadata": {},
     "output_type": "execute_result"
    }
   ],
   "source": [
    "function divideby3(x)\n",
    "    # TODO: return a tuple a,b so that a ≤ x ≤ b where b is either equal to a or the next float\n",
    "    T = Float64\n",
    "    setrounding(T, RoundDown) do \n",
    "        x / 3 \n",
    "    end,  setrounding(T, RoundUp) do \n",
    "            x / 3 \n",
    "    end\n",
    "end\n",
    "\n",
    "x = 0.1 # arbitary x\n",
    "a,b = divideby3(x)\n",
    "# unfortunately the solution is no longer working. I apologise for any confusion andt the true exam will be better tested.\n",
    "@test_broken a ≤ big(x)/3 ≤ b\n",
    "@test_broken b == nextfloat(a)"
   ]
  },
  {
   "cell_type": "markdown",
   "metadata": {},
   "source": [
    "**Problem 6 (B)** Complete the implementation of `LowerTridiagonal` which represents an $n × n$ banded matrix with\n",
    "bandwidths $(l,u) = (2,0)$ by storing only its diagonal, sub-diagonal, and second-sub-diagonal as vectors.\n",
    "Overload `getindex`, as well as `*` to multiply a lower tridiagonal matrix times a vector in $O(n)$ operations."
   ]
  },
  {
   "cell_type": "code",
   "execution_count": 35,
   "metadata": {},
   "outputs": [
    {
     "data": {
      "text/plain": [
       "\u001b[32m\u001b[1mTest Passed\u001b[22m\u001b[39m"
      ]
     },
     "execution_count": 35,
     "metadata": {},
     "output_type": "execute_result"
    }
   ],
   "source": [
    "import Base: getindex,  size, *\n",
    "\n",
    "struct LowerTridiagonal <: AbstractMatrix{Float64}\n",
    "    d::Vector{Float64}   # diagonal entries of length n\n",
    "    dl::Vector{Float64}  # sub-diagonal entries of length n-1\n",
    "    dl2::Vector{Float64} # second-sub-diagonal entries of length n-2\n",
    "end\n",
    "\n",
    "size(L::LowerTridiagonal) = (length(L.d),length(L.d))\n",
    "\n",
    "function getindex(L::LowerTridiagonal, k::Int, j::Int)\n",
    "    d, dl, dl2 = L.d, L.dl, L.dl2\n",
    "    # TODO: return L[k,j].\n",
    "    if k - j == 0\n",
    "        d[j]\n",
    "    elseif k - j == 1\n",
    "        dl[j]\n",
    "    elseif k - j == 2\n",
    "        dl2[j]\n",
    "    else\n",
    "        0\n",
    "    end\n",
    "    # if k - j > 2 || k < j\n",
    "\n",
    "        \n",
    "end\n",
    "\n",
    "\n",
    "function *(L::LowerTridiagonal, x::AbstractVector)\n",
    "    # TODO: Return L*x but computed in O(n) operations\n",
    "    n = length(x)\n",
    "    v = 0.0\n",
    "    res = zeros(Float64, n)\n",
    "    res[1] = L.d[1] * x[1]\n",
    "    res[2] = L.dl[1] * x[1] + L.d[2] * x[2]\n",
    "    for k = 3:n\n",
    "        res[k] = L.dl2[k - 2] * x[k - 2] + L.dl[k - 1] * x[k - 1] + L.d[k] * x[k]\n",
    "    end\n",
    "    res\n",
    "end\n",
    "\n",
    "n = 10\n",
    "d, dl, dl2 = randn(n), randn(n-1), randn(n-2)\n",
    "L = LowerTridiagonal(d, dl, dl2)\n",
    "@test L == diagm(0 => d, -1 => dl, -2 => dl2)\n",
    "x = randn(n)\n",
    "@test L*x ≈ diagm(0 => d, -1 => dl, -2 => dl2)*x"
   ]
  },
  {
   "cell_type": "markdown",
   "metadata": {},
   "source": [
    "**Problem 7 (B)** Complete the function `airy(n)` that returns a length-$n+1$ vector\n",
    "$$\n",
    "\\begin{bmatrix}\n",
    "u_0 \\\\\n",
    "⋮ \\\\\n",
    "u_n\n",
    "\\end{bmatrix}\n",
    "$$\n",
    "such that $u_k ≈ u(x_k)$ approximates the solution to the equation\n",
    "$$\n",
    "\\begin{align*}\n",
    "u(0) &= 1 \\\\\n",
    "u(1) &= 0 \\\\\n",
    "u'' - x u &= 0\n",
    "\\end{align*}\n",
    "$$\n",
    "at the point $x_k = k/n$ using the second order finite-difference approximation:\n",
    "$$\n",
    "u''(x_k) ≈ {u_{k-1} - 2u_k + u_{k+1} \\over h^2}\n",
    "$$\n",
    "for $k = 1, …, n-1$. The solution must use only $O(n)$ operations."
   ]
  },
  {
   "cell_type": "code",
   "execution_count": 62,
   "metadata": {},
   "outputs": [
    {
     "name": "stdout",
     "output_type": "stream",
     "text": [
      "0.9999999999999999999999999999999999999999999999999999999999999999999999999587537\n"
     ]
    },
    {
     "data": {
      "text/plain": [
       "\u001b[32m\u001b[1mTest Passed\u001b[22m\u001b[39m"
      ]
     },
     "execution_count": 62,
     "metadata": {},
     "output_type": "execute_result"
    }
   ],
   "source": [
    "function airy(n)\n",
    "    # TODO: return a Vector{Float64} approximating the solution to the ODE\n",
    "    u0 = 1\n",
    "    u1 = 0\n",
    "    a,b = 0, 1\n",
    "    xs = range(a, b, length=n+1)\n",
    "    h = step(xs)\n",
    "    A = Tridiagonal(\n",
    "        [fill(1/h^2, n-1); 0],\n",
    "        [1; -xs[2:end-1] - fill(2/h^2, n-1); 1],\n",
    "        [0; ones(BigFloat, n - 1) / (h ^ 2)]\n",
    "    )\n",
    "    res = A \\ [u0; zeros(n - 1) ;u1]\n",
    "    println(res[1])\n",
    "    res[1] = u0\n",
    "    res[end] = u1\n",
    "    res\n",
    "end\n",
    "\n",
    "u = airy(999)\n",
    "@test length(u) == 1000\n",
    "@test u[1] == 1\n",
    "@test u[end] == 0\n",
    "# this compares agianst the exact formula\n",
    "@test abs(u[500] - 0.4757167332829094) ≤ 2E-8"
   ]
  },
  {
   "cell_type": "markdown",
   "metadata": {},
   "source": [
    "**Problem 8 (C)** Approximate $\\exp x$ by a cubic polynomial by minimising\n",
    "the least squares error when sampled at $n$ evenly spaced points in $[0,1]$,\n",
    "that is, $x_k = (k-1)/(n-1)$ for $k = 1,…,n$,\n",
    "returning the coefficients in the monomial basis."
   ]
  },
  {
   "cell_type": "code",
   "execution_count": 67,
   "metadata": {},
   "outputs": [
    {
     "data": {
      "text/plain": [
       "\u001b[32m\u001b[1mTest Passed\u001b[22m\u001b[39m"
      ]
     },
     "execution_count": 67,
     "metadata": {},
     "output_type": "execute_result"
    }
   ],
   "source": [
    "function expfit(n)\n",
    "    # TODO: return the coefficients [c_0,c_1,c_2,c_3] of the polynomial\n",
    "    # c_0 + c_1*x + c_2*x^2 + c_3*x^3 that minimises the L^2 error at n\n",
    "    # evenly spaced samples\n",
    "    xs = [(k - 1) / (n - 1) for k = 1:n]\n",
    "    fs = exp.(xs)\n",
    "    V = [xs[j]^k for j = 1:n, k = 0:3]\n",
    "    V \\ fs\n",
    "end\n",
    "\n",
    "c = expfit(1000)\n",
    "x = 0.1\n",
    "@test abs(c[1] + c[2]*x + c[3]*x^2 + c[4]*x^3 - exp(x)) ≤ 1E-3"
   ]
  },
  {
   "cell_type": "markdown",
   "metadata": {},
   "source": [
    "**Problem 9.1 (B)** Implement `lowerhouseholderreflection(x)` where `x` is a vector representing $𝐱 ∈ ℝ^n$\n",
    " to return a reflection $Q$  satisfying $Q 𝐱 = -\\| 𝐱 \\| 𝐞_n$.\n",
    " The function `lowerhouseholderreflection(x)` should return a `Matrix{Float64}`.\n",
    "You may assume that `x` is a `Vector{Float64}`."
   ]
  },
  {
   "cell_type": "code",
   "execution_count": 71,
   "metadata": {},
   "outputs": [
    {
     "data": {
      "text/plain": [
       "\u001b[32m\u001b[1mTest Passed\u001b[22m\u001b[39m"
      ]
     },
     "execution_count": 71,
     "metadata": {},
     "output_type": "execute_result"
    }
   ],
   "source": [
    "function lowerhouseholderreflection(x)\n",
    "    # TODO: implement the householder reflector defined above\n",
    "    n = length(x)\n",
    "    I = Diagonal(ones(n))\n",
    "    en = zeros(n)\n",
    "    en[end] = 1\n",
    "    y = norm(x) * en + x\n",
    "    w = y / norm(y)\n",
    "    I - 2 * w * w'\n",
    "end\n",
    "x = [1.0,2,3,4]\n",
    "Q = lowerhouseholderreflection(x)\n",
    "@test Q*x ≈ [zeros(3); -norm(x)]\n",
    "@test Q'Q ≈ I\n",
    "@test Q ≈ Q'"
   ]
  },
  {
   "cell_type": "markdown",
   "metadata": {},
   "source": [
    "**Problem 9.2 (A)** Complete the function `ql(A)` that\n",
    "returns a QL decomposition, that is, `Q` is an orthogonal\n",
    "matrix and `L` is lower triangular satisfying (up to rounding) `A == Q*L`. You may assume that `A`\n",
    "is a square `Matrix{Float64}`. Hint: use the previous part to lower triangularise."
   ]
  },
  {
   "cell_type": "code",
   "execution_count": 75,
   "metadata": {},
   "outputs": [
    {
     "ename": "LoadError",
     "evalue": "MethodError: no method matching setindex!(::UniformScaling{Bool}, ::Matrix{Float64}, ::UnitRange{Int64}, ::UnitRange{Int64})\nThe function `setindex!` exists, but no method is defined for this combination of argument types.",
     "output_type": "error",
     "traceback": [
      "MethodError: no method matching setindex!(::UniformScaling{Bool}, ::Matrix{Float64}, ::UnitRange{Int64}, ::UnitRange{Int64})\nThe function `setindex!` exists, but no method is defined for this combination of argument types.",
      "",
      "Stacktrace:",
      " [1] ql(A::Matrix{Float64})",
      "   @ Main ./In[75]:10",
      " [2] top-level scope",
      "   @ In[75]:18"
     ]
    }
   ],
   "source": [
    "function ql(A)\n",
    "    m,n = size(A)\n",
    "    m == n || error(\"not square\")\n",
    "    # TODO Create Q and L such that Q'Q == I, L is lower triangular, and Q*L ≈ A\n",
    "    L = copy(A)\n",
    "    Q = I\n",
    "    for j = n:-1:2\n",
    "        Qj = lowerhouseholderreflection(A[1:j, j])\n",
    "        M = I\n",
    "        M[1:j, 1:j] = Qj\n",
    "        L[1:j, j] = M * A[1:j, j]\n",
    "        Q = Q * M\n",
    "    end\n",
    "    Q, L\n",
    "end\n",
    "\n",
    "Aⱼ = A\n",
    "Q = Matrix(1.0I, n, n)\n",
    "L = zeros(m, n)\n",
    "for j = n:-1:1 # 4 marks for recognising the order has to be reversed\n",
    "    𝐚ⱼ = Aⱼ[:,end] # first columns of Aⱼ, 1 mark for working with this\n",
    "    Qⱼ = lowerhouseholderreflection(𝐚ⱼ) # 2 marks for calling lowerhouseholderreflection\n",
    "    QⱼAⱼ = Qⱼ*Aⱼ # multiply Aⱼ by lower Householder reflection\n",
    "    α,𝐰 = QⱼAⱼ[end,end],QⱼAⱼ[end,1:end-1]\n",
    "\n",
    "    # populate returned data, 1 mark\n",
    "    L[j,j] = α\n",
    "    L[j,1:j-1] = 𝐰\n",
    "\n",
    "    # following is equivalent to Q = Q*[Qⱼ 0; 0 I], 3 marks\n",
    "    Q[:,1:j] = Q[:,1:j]*Qⱼ\n",
    "\n",
    "    Aⱼ = QⱼAⱼ[1:end-1,1:end-1] # this is the \"induction\", 1 mark\n",
    "end\n",
    "\n",
    "A = [1.0 2 3; 1 4 9; 1 1 1]\n",
    "Q,L = ql(A)\n",
    "@test Q'Q ≈ I\n",
    "@test Q*L ≈ A\n",
    "@test L ≈ tril(L) # it is acceptable to have small non-zero entries in L"
   ]
  },
  {
   "cell_type": "markdown",
   "metadata": {},
   "source": [
    "---\n",
    "\n",
    "*This notebook was generated using [Literate.jl](https://github.com/fredrikekre/Literate.jl).*"
   ]
  },
  {
   "cell_type": "code",
   "execution_count": null,
   "metadata": {},
   "outputs": [],
   "source": []
  },
  {
   "cell_type": "code",
   "execution_count": null,
   "metadata": {},
   "outputs": [],
   "source": []
  }
 ],
 "metadata": {
  "kernelspec": {
   "display_name": "Julia 1.11.2",
   "language": "julia",
   "name": "julia-1.11"
  },
  "language_info": {
   "file_extension": ".jl",
   "mimetype": "application/julia",
   "name": "julia",
   "version": "1.11.2"
  }
 },
 "nbformat": 4,
 "nbformat_minor": 4
}
