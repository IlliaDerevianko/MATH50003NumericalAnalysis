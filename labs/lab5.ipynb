{
 "cells": [
  {
   "cell_type": "markdown",
   "metadata": {},
   "source": [
    "# MATH50003 (2024–25)\n",
    "# Lab 5: III.2 LU Factorisation and III.3 Cholesky Factorisation"
   ]
  },
  {
   "cell_type": "markdown",
   "metadata": {},
   "source": [
    "In this lab we explore using LU, PLU and Cholesky factorisations, and\n",
    "implement algorithms for computing a Cholesky factorisation. We explore\n",
    "stability properties of these different factorisations, and see that the\n",
    "Cholesky factorisation is a robust way of determining if a matrix is symmetric\n",
    "postive definite."
   ]
  },
  {
   "cell_type": "markdown",
   "metadata": {},
   "source": [
    "**Learning Outcomes**\n",
    "\n",
    "Mathematical knowledge:\n",
    "\n",
    "1. LU and PLU factorisations\n",
    "2. Cholesky and reverse Cholesky factorisations, including for banded matrices."
   ]
  },
  {
   "cell_type": "markdown",
   "metadata": {},
   "source": [
    "Coding knowledge:\n",
    "\n",
    "1. Using the `lu` and `cholesky` functions."
   ]
  },
  {
   "cell_type": "markdown",
   "metadata": {},
   "source": [
    "We load the following packages:"
   ]
  },
  {
   "cell_type": "code",
   "execution_count": 12,
   "metadata": {},
   "outputs": [],
   "source": [
    "using LinearAlgebra, Plots, Test"
   ]
  },
  {
   "cell_type": "markdown",
   "metadata": {},
   "source": [
    "### III.2 LU and PLU Factorisations"
   ]
  },
  {
   "cell_type": "markdown",
   "metadata": {},
   "source": [
    "LU, PLU and Cholesky factorisations are closely related\n",
    "matrix factorisations that reduce a square matrix to a product of\n",
    "lower and upper triangular matrices, possibly with a permutation matrix.\n",
    "We will only focus on the practical usage of LU and PLU, without digging into the\n",
    "details of implementation."
   ]
  },
  {
   "cell_type": "markdown",
   "metadata": {},
   "source": [
    "### III.2.1 LU Factorisation"
   ]
  },
  {
   "cell_type": "markdown",
   "metadata": {},
   "source": [
    "If $A ∈ 𝔽^{n × n}$ is a square matrix where $𝔽$ is a field ($ℝ$ or $ℂ$)\n",
    "then we can sometimes find lower and upper triangular matrices $L,U ∈ 𝔽^{n × n}$ such that\n",
    "$$\n",
    "A = LU.\n",
    "$$\n",
    "This is equivalent to Gaussian elimination but we will only focus on practical usage in this lab.\n",
    "This factorisation can be computed using the `lu` function, but as the default is a PLU factorisation we add a flag\n",
    "telling it not to use pivoting/permutations:"
   ]
  },
  {
   "cell_type": "code",
   "execution_count": 13,
   "metadata": {},
   "outputs": [
    {
     "data": {
      "text/plain": [
       "LU{Float64, Matrix{Float64}, Vector{Int64}}\n",
       "L factor:\n",
       "3×3 Matrix{Float64}:\n",
       " 1.0  0.0  0.0\n",
       " 2.0  1.0  0.0\n",
       " 1.0  1.5  1.0\n",
       "U factor:\n",
       "3×3 Matrix{Float64}:\n",
       " 1.0  1.0   1.0\n",
       " 0.0  2.0   6.0\n",
       " 0.0  0.0  -1.0"
      ]
     },
     "execution_count": 13,
     "metadata": {},
     "output_type": "execute_result"
    }
   ],
   "source": [
    "A = [1.0 1 1;\n",
    "     2   4 8;\n",
    "     1   4 9]\n",
    "\n",
    "L,U = lu(A, NoPivot()) # NoPivot is a flag that tells lu to not use permutations"
   ]
  },
  {
   "cell_type": "markdown",
   "metadata": {},
   "source": [
    "This matches what we derived by hand in the notes and indeed:"
   ]
  },
  {
   "cell_type": "code",
   "execution_count": 14,
   "metadata": {},
   "outputs": [
    {
     "data": {
      "text/plain": [
       "\u001b[32m\u001b[1mTest Passed\u001b[22m\u001b[39m"
      ]
     },
     "execution_count": 14,
     "metadata": {},
     "output_type": "execute_result"
    }
   ],
   "source": [
    "@test A ≈ L*U"
   ]
  },
  {
   "cell_type": "markdown",
   "metadata": {},
   "source": [
    "We can use an LU factorisation to reduce solving a linear system to inverting triangular matrices:"
   ]
  },
  {
   "cell_type": "code",
   "execution_count": 15,
   "metadata": {},
   "outputs": [
    {
     "data": {
      "text/plain": [
       "\u001b[32m\u001b[1mTest Passed\u001b[22m\u001b[39m"
      ]
     },
     "execution_count": 15,
     "metadata": {},
     "output_type": "execute_result"
    }
   ],
   "source": [
    "b = randn(3)\n",
    "c = L \\ b # computed using forward elimination (even though L is a Matrix, \\ detects it is lower triangular)\n",
    "x = U \\ c # computed using back substitution\n",
    "@test A \\ b ≈ x"
   ]
  },
  {
   "cell_type": "markdown",
   "metadata": {},
   "source": [
    "If a matrix has a zero on a pivot we know by equivalence to Gaussian elimination that an LU factorisation\n",
    "does not exist:"
   ]
  },
  {
   "cell_type": "code",
   "execution_count": 5,
   "metadata": {},
   "outputs": [
    {
     "ename": "LoadError",
     "evalue": "ZeroPivotException: factorization encountered one or more zero pivots. Consider switching to a pivoted LU factorization.",
     "output_type": "error",
     "traceback": [
      "ZeroPivotException: factorization encountered one or more zero pivots. Consider switching to a pivoted LU factorization.",
      "",
      "Stacktrace:",
      " [1] checknozeropivot",
      "   @ /Applications/Julia-1.11.app/Contents/Resources/julia/share/julia/stdlib/v1.11/LinearAlgebra/src/factorization.jl:70 [inlined]",
      " [2] _check_lu_success",
      "   @ /Applications/Julia-1.11.app/Contents/Resources/julia/share/julia/stdlib/v1.11/LinearAlgebra/src/lu.jl:82 [inlined]",
      " [3] generic_lufact!(A::Matrix{Float64}, pivot::NoPivot; check::Bool, allowsingular::Bool)",
      "   @ LinearAlgebra /Applications/Julia-1.11.app/Contents/Resources/julia/share/julia/stdlib/v1.11/LinearAlgebra/src/lu.jl:214",
      " [4] generic_lufact!",
      "   @ /Applications/Julia-1.11.app/Contents/Resources/julia/share/julia/stdlib/v1.11/LinearAlgebra/src/lu.jl:152 [inlined]",
      " [5] lu!",
      "   @ /Applications/Julia-1.11.app/Contents/Resources/julia/share/julia/stdlib/v1.11/LinearAlgebra/src/lu.jl:151 [inlined]",
      " [6] _lu",
      "   @ /Applications/Julia-1.11.app/Contents/Resources/julia/share/julia/stdlib/v1.11/LinearAlgebra/src/lu.jl:347 [inlined]",
      " [7] lu(A::Matrix{Float64}, args::NoPivot; kwargs::@Kwargs{})",
      "   @ LinearAlgebra /Applications/Julia-1.11.app/Contents/Resources/julia/share/julia/stdlib/v1.11/LinearAlgebra/src/lu.jl:341",
      " [8] lu(A::Matrix{Float64}, args::NoPivot)",
      "   @ LinearAlgebra /Applications/Julia-1.11.app/Contents/Resources/julia/share/julia/stdlib/v1.11/LinearAlgebra/src/lu.jl:341",
      " [9] top-level scope",
      "   @ In[5]:2"
     ]
    }
   ],
   "source": [
    "A[1,1] = 0\n",
    "lu(A, NoPivot()) # throws an error"
   ]
  },
  {
   "cell_type": "markdown",
   "metadata": {},
   "source": [
    "But even if it has a very small but non-zero entry we get huge errors:"
   ]
  },
  {
   "cell_type": "code",
   "execution_count": 16,
   "metadata": {},
   "outputs": [
    {
     "data": {
      "text/plain": [
       "LU{Float64, Matrix{Float64}, Vector{Int64}}\n",
       "L factor:\n",
       "3×3 Matrix{Float64}:\n",
       " 1.0     0.0  0.0\n",
       " 2.0e14  1.0  0.0\n",
       " 1.0e14  0.5  1.0\n",
       "U factor:\n",
       "3×3 Matrix{Float64}:\n",
       " 1.0e-14   1.0      1.0\n",
       " 0.0      -2.0e14  -2.0e14\n",
       " 0.0       0.0      3.0"
      ]
     },
     "execution_count": 16,
     "metadata": {},
     "output_type": "execute_result"
    }
   ],
   "source": [
    "A[1,1] = 1E-14\n",
    "L,U = lu(A, NoPivot()) # Succeeds but suddenly U is on order of 2E14!"
   ]
  },
  {
   "cell_type": "code",
   "execution_count": 17,
   "metadata": {},
   "outputs": [
    {
     "data": {
      "text/plain": [
       "0.00964770235425084"
      ]
     },
     "execution_count": 17,
     "metadata": {},
     "output_type": "execute_result"
    }
   ],
   "source": [
    "norm(A \\ b - U\\(L\\b)) # Very large error! A \\ b uses pivoting now."
   ]
  },
  {
   "cell_type": "markdown",
   "metadata": {},
   "source": [
    "**WARNING** The parantheses are important: algebra is left-associative so had we written `U\\L\\b` this would have been interpreted as\n",
    "`(U\\L) \\ b` which would have meant `inv(inv(U)*L)*b == L \\ (U*b)`."
   ]
  },
  {
   "cell_type": "markdown",
   "metadata": {},
   "source": [
    "-----"
   ]
  },
  {
   "cell_type": "markdown",
   "metadata": {},
   "source": [
    "**Problem 1** For `A` defined above, consider setting  `A[1,1] = ε` for `ε = 10.0 ^ (-k)` for `k = 0,…,14`\n",
    "with the right-hand side `b = [1,2,3]`.\n",
    "Plot, scaling the $y$-axis logarithmically, the growth rate in the error of using LU compared to `\\`.\n",
    "Make a conjecture on how the error grows as $k → ∞$.\n",
    "Hint: you can either allocate a vector of errors that is populated in a for-loop or write a simple comprehension."
   ]
  },
  {
   "cell_type": "code",
   "execution_count": 55,
   "metadata": {},
   "outputs": [
    {
     "data": {
      "image/png": "[encoded data removed]",
      "image/svg+xml": [
       "<?xml version=\"1.0\" encoding=\"utf-8\"?>\n",
       "<svg xmlns=\"http://www.w3.org/2000/svg\" xmlns:xlink=\"http://www.w3.org/1999/xlink\" width=\"600\" height=\"400\" viewBox=\"0 0 2400 1600\">\n",
       "<defs>\n",
       "  <clipPath id=\"clip590\">\n",
       "    <rect x=\"0\" y=\"0\" width=\"2400\" height=\"1600\"/>\n",
       "  </clipPath>\n",
       "</defs>\n",
       "<path clip-path=\"url(#clip590)\" d=\"M0 1600 L2400 1600 L2400 0 L0 0  Z\" fill=\"#ffffff\" fill-rule=\"evenodd\" fill-opacity=\"1\"/>\n",
       "<defs>\n",
       "  <clipPath id=\"clip591\">\n",
       "    <rect x=\"480\" y=\"0\" width=\"1681\" height=\"1600\"/>\n",
       "  </clipPath>\n",
       "</defs>\n",
       "<path clip-path=\"url(#clip590)\" d=\"M213.607 1486.45 L2352.76 1486.45 L2352.76 47.2441 L213.607 47.2441  Z\" fill=\"#ffffff\" fill-rule=\"evenodd\" fill-opacity=\"1\"/>\n",
       "<defs>\n",
       "  <clipPath id=\"clip592\">\n",
       "    <rect x=\"213\" y=\"47\" width=\"2140\" height=\"1440\"/>\n",
       "  </clipPath>\n",
       "</defs>\n",
       "<polyline clip-path=\"url(#clip592)\" style=\"stroke:#000000; stroke-linecap:round; stroke-linejoin:round; stroke-width:2; stroke-opacity:0.1; fill:none\" points=\"418.297,1486.45 418.297,47.2441 \"/>\n",
       "<polyline clip-path=\"url(#clip592)\" style=\"stroke:#000000; stroke-linecap:round; stroke-linejoin:round; stroke-width:2; stroke-opacity:0.1; fill:none\" points=\"706.592,1486.45 706.592,47.2441 \"/>\n",
       "<polyline clip-path=\"url(#clip592)\" style=\"stroke:#000000; stroke-linecap:round; stroke-linejoin:round; stroke-width:2; stroke-opacity:0.1; fill:none\" points=\"994.887,1486.45 994.887,47.2441 \"/>\n",
       "<polyline clip-path=\"url(#clip592)\" style=\"stroke:#000000; stroke-linecap:round; stroke-linejoin:round; stroke-width:2; stroke-opacity:0.1; fill:none\" points=\"1283.18,1486.45 1283.18,47.2441 \"/>\n",
       "<polyline clip-path=\"url(#clip592)\" style=\"stroke:#000000; stroke-linecap:round; stroke-linejoin:round; stroke-width:2; stroke-opacity:0.1; fill:none\" points=\"1571.48,1486.45 1571.48,47.2441 \"/>\n",
       "<polyline clip-path=\"url(#clip592)\" style=\"stroke:#000000; stroke-linecap:round; stroke-linejoin:round; stroke-width:2; stroke-opacity:0.1; fill:none\" points=\"1859.77,1486.45 1859.77,47.2441 \"/>\n",
       "<polyline clip-path=\"url(#clip592)\" style=\"stroke:#000000; stroke-linecap:round; stroke-linejoin:round; stroke-width:2; stroke-opacity:0.1; fill:none\" points=\"2148.07,1486.45 2148.07,47.2441 \"/>\n",
       "<polyline clip-path=\"url(#clip592)\" style=\"stroke:#000000; stroke-linecap:round; stroke-linejoin:round; stroke-width:2; stroke-opacity:0.1; fill:none\" points=\"213.607,1361.59 2352.76,1361.59 \"/>\n",
       "<polyline clip-path=\"url(#clip592)\" style=\"stroke:#000000; stroke-linecap:round; stroke-linejoin:round; stroke-width:2; stroke-opacity:0.1; fill:none\" points=\"213.607,871.15 2352.76,871.15 \"/>\n",
       "<polyline clip-path=\"url(#clip592)\" style=\"stroke:#000000; stroke-linecap:round; stroke-linejoin:round; stroke-width:2; stroke-opacity:0.1; fill:none\" points=\"213.607,380.711 2352.76,380.711 \"/>\n",
       "<polyline clip-path=\"url(#clip590)\" style=\"stroke:#000000; stroke-linecap:round; stroke-linejoin:round; stroke-width:4; stroke-opacity:1; fill:none\" points=\"213.607,1486.45 2352.76,1486.45 \"/>\n",
       "<polyline clip-path=\"url(#clip590)\" style=\"stroke:#000000; stroke-linecap:round; stroke-linejoin:round; stroke-width:4; stroke-opacity:1; fill:none\" points=\"418.297,1486.45 418.297,1467.55 \"/>\n",
       "<polyline clip-path=\"url(#clip590)\" style=\"stroke:#000000; stroke-linecap:round; stroke-linejoin:round; stroke-width:4; stroke-opacity:1; fill:none\" points=\"706.592,1486.45 706.592,1467.55 \"/>\n",
       "<polyline clip-path=\"url(#clip590)\" style=\"stroke:#000000; stroke-linecap:round; stroke-linejoin:round; stroke-width:4; stroke-opacity:1; fill:none\" points=\"994.887,1486.45 994.887,1467.55 \"/>\n",
       "<polyline clip-path=\"url(#clip590)\" style=\"stroke:#000000; stroke-linecap:round; stroke-linejoin:round; stroke-width:4; stroke-opacity:1; fill:none\" points=\"1283.18,1486.45 1283.18,1467.55 \"/>\n",
       "<polyline clip-path=\"url(#clip590)\" style=\"stroke:#000000; stroke-linecap:round; stroke-linejoin:round; stroke-width:4; stroke-opacity:1; fill:none\" points=\"1571.48,1486.45 1571.48,1467.55 \"/>\n",
       "<polyline clip-path=\"url(#clip590)\" style=\"stroke:#000000; stroke-linecap:round; stroke-linejoin:round; stroke-width:4; stroke-opacity:1; fill:none\" points=\"1859.77,1486.45 1859.77,1467.55 \"/>\n",
       "<polyline clip-path=\"url(#clip590)\" style=\"stroke:#000000; stroke-linecap:round; stroke-linejoin:round; stroke-width:4; stroke-opacity:1; fill:none\" points=\"2148.07,1486.45 2148.07,1467.55 \"/>\n",
       "<path clip-path=\"url(#clip590)\" d=\"M412.95 1544.91 L429.269 1544.91 L429.269 1548.85 L407.325 1548.85 L407.325 1544.91 Q409.987 1542.16 414.57 1537.53 Q419.177 1532.88 420.357 1531.53 Q422.602 1529.01 423.482 1527.27 Q424.385 1525.51 424.385 1523.82 Q424.385 1521.07 422.44 1519.33 Q420.519 1517.6 417.417 1517.6 Q415.218 1517.6 412.765 1518.36 Q410.334 1519.13 407.556 1520.68 L407.556 1515.95 Q410.38 1514.82 412.834 1514.24 Q415.288 1513.66 417.325 1513.66 Q422.695 1513.66 425.889 1516.35 Q429.084 1519.03 429.084 1523.52 Q429.084 1525.65 428.274 1527.57 Q427.487 1529.47 425.38 1532.07 Q424.801 1532.74 421.7 1535.95 Q418.598 1539.15 412.95 1544.91 Z\" fill=\"#000000\" fill-rule=\"nonzero\" fill-opacity=\"1\" /><path clip-path=\"url(#clip590)\" d=\"M709.601 1518.36 L697.796 1536.81 L709.601 1536.81 L709.601 1518.36 M708.374 1514.29 L714.254 1514.29 L714.254 1536.81 L719.184 1536.81 L719.184 1540.7 L714.254 1540.7 L714.254 1548.85 L709.601 1548.85 L709.601 1540.7 L693.999 1540.7 L693.999 1536.19 L708.374 1514.29 Z\" fill=\"#000000\" fill-rule=\"nonzero\" fill-opacity=\"1\" /><path clip-path=\"url(#clip590)\" d=\"M995.292 1529.7 Q992.144 1529.7 990.292 1531.86 Q988.463 1534.01 988.463 1537.76 Q988.463 1541.49 990.292 1543.66 Q992.144 1545.82 995.292 1545.82 Q998.44 1545.82 1000.27 1543.66 Q1002.12 1541.49 1002.12 1537.76 Q1002.12 1534.01 1000.27 1531.86 Q998.44 1529.7 995.292 1529.7 M1004.57 1515.05 L1004.57 1519.31 Q1002.81 1518.48 1001.01 1518.04 Q999.227 1517.6 997.468 1517.6 Q992.838 1517.6 990.384 1520.72 Q987.954 1523.85 987.607 1530.17 Q988.972 1528.15 991.033 1527.09 Q993.093 1526 995.57 1526 Q1000.78 1526 1003.79 1529.17 Q1006.82 1532.32 1006.82 1537.76 Q1006.82 1543.08 1003.67 1546.3 Q1000.52 1549.52 995.292 1549.52 Q989.297 1549.52 986.125 1544.94 Q982.954 1540.33 982.954 1531.6 Q982.954 1523.41 986.843 1518.55 Q990.732 1513.66 997.283 1513.66 Q999.042 1513.66 1000.82 1514.01 Q1002.63 1514.36 1004.57 1515.05 Z\" fill=\"#000000\" fill-rule=\"nonzero\" fill-opacity=\"1\" /><path clip-path=\"url(#clip590)\" d=\"M1283.18 1532.44 Q1279.85 1532.44 1277.93 1534.22 Q1276.03 1536 1276.03 1539.13 Q1276.03 1542.25 1277.93 1544.03 Q1279.85 1545.82 1283.18 1545.82 Q1286.52 1545.82 1288.44 1544.03 Q1290.36 1542.23 1290.36 1539.13 Q1290.36 1536 1288.44 1534.22 Q1286.54 1532.44 1283.18 1532.44 M1278.51 1530.45 Q1275.5 1529.7 1273.81 1527.64 Q1272.14 1525.58 1272.14 1522.62 Q1272.14 1518.48 1275.08 1516.07 Q1278.04 1513.66 1283.18 1513.66 Q1288.34 1513.66 1291.28 1516.07 Q1294.22 1518.48 1294.22 1522.62 Q1294.22 1525.58 1292.53 1527.64 Q1290.87 1529.7 1287.88 1530.45 Q1291.26 1531.23 1293.14 1533.52 Q1295.03 1535.82 1295.03 1539.13 Q1295.03 1544.15 1291.95 1546.83 Q1288.9 1549.52 1283.18 1549.52 Q1277.46 1549.52 1274.39 1546.83 Q1271.33 1544.15 1271.33 1539.13 Q1271.33 1535.82 1273.23 1533.52 Q1275.13 1531.23 1278.51 1530.45 M1276.79 1523.06 Q1276.79 1525.75 1278.46 1527.25 Q1280.15 1528.76 1283.18 1528.76 Q1286.19 1528.76 1287.88 1527.25 Q1289.59 1525.75 1289.59 1523.06 Q1289.59 1520.38 1287.88 1518.87 Q1286.19 1517.37 1283.18 1517.37 Q1280.15 1517.37 1278.46 1518.87 Q1276.79 1520.38 1276.79 1523.06 Z\" fill=\"#000000\" fill-rule=\"nonzero\" fill-opacity=\"1\" /><path clip-path=\"url(#clip590)\" d=\"M1546.16 1544.91 L1553.8 1544.91 L1553.8 1518.55 L1545.49 1520.21 L1545.49 1515.95 L1553.76 1514.29 L1558.43 1514.29 L1558.43 1544.91 L1566.07 1544.91 L1566.07 1548.85 L1546.16 1548.85 L1546.16 1544.91 Z\" fill=\"#000000\" fill-rule=\"nonzero\" fill-opacity=\"1\" /><path clip-path=\"url(#clip590)\" d=\"M1585.52 1517.37 Q1581.9 1517.37 1580.08 1520.93 Q1578.27 1524.47 1578.27 1531.6 Q1578.27 1538.71 1580.08 1542.27 Q1581.9 1545.82 1585.52 1545.82 Q1589.15 1545.82 1590.96 1542.27 Q1592.78 1538.71 1592.78 1531.6 Q1592.78 1524.47 1590.96 1520.93 Q1589.15 1517.37 1585.52 1517.37 M1585.52 1513.66 Q1591.33 1513.66 1594.38 1518.27 Q1597.46 1522.85 1597.46 1531.6 Q1597.46 1540.33 1594.38 1544.94 Q1591.33 1549.52 1585.52 1549.52 Q1579.71 1549.52 1576.63 1544.94 Q1573.57 1540.33 1573.57 1531.6 Q1573.57 1522.85 1576.63 1518.27 Q1579.71 1513.66 1585.52 1513.66 Z\" fill=\"#000000\" fill-rule=\"nonzero\" fill-opacity=\"1\" /><path clip-path=\"url(#clip590)\" d=\"M1835.26 1544.91 L1842.9 1544.91 L1842.9 1518.55 L1834.59 1520.21 L1834.59 1515.95 L1842.85 1514.29 L1847.53 1514.29 L1847.53 1544.91 L1855.17 1544.91 L1855.17 1548.85 L1835.26 1548.85 L1835.26 1544.91 Z\" fill=\"#000000\" fill-rule=\"nonzero\" fill-opacity=\"1\" /><path clip-path=\"url(#clip590)\" d=\"M1868.64 1544.91 L1884.96 1544.91 L1884.96 1548.85 L1863.01 1548.85 L1863.01 1544.91 Q1865.67 1542.16 1870.26 1537.53 Q1874.86 1532.88 1876.04 1531.53 Q1878.29 1529.01 1879.17 1527.27 Q1880.07 1525.51 1880.07 1523.82 Q1880.07 1521.07 1878.13 1519.33 Q1876.21 1517.6 1873.1 1517.6 Q1870.91 1517.6 1868.45 1518.36 Q1866.02 1519.13 1863.24 1520.68 L1863.24 1515.95 Q1866.07 1514.82 1868.52 1514.24 Q1870.98 1513.66 1873.01 1513.66 Q1878.38 1513.66 1881.58 1516.35 Q1884.77 1519.03 1884.77 1523.52 Q1884.77 1525.65 1883.96 1527.57 Q1883.17 1529.47 1881.07 1532.07 Q1880.49 1532.74 1877.39 1535.95 Q1874.29 1539.15 1868.64 1544.91 Z\" fill=\"#000000\" fill-rule=\"nonzero\" fill-opacity=\"1\" /><path clip-path=\"url(#clip590)\" d=\"M2122.51 1544.91 L2130.15 1544.91 L2130.15 1518.55 L2121.84 1520.21 L2121.84 1515.95 L2130.1 1514.29 L2134.78 1514.29 L2134.78 1544.91 L2142.42 1544.91 L2142.42 1548.85 L2122.51 1548.85 L2122.51 1544.91 Z\" fill=\"#000000\" fill-rule=\"nonzero\" fill-opacity=\"1\" /><path clip-path=\"url(#clip590)\" d=\"M2164.71 1518.36 L2152.9 1536.81 L2164.71 1536.81 L2164.71 1518.36 M2163.48 1514.29 L2169.36 1514.29 L2169.36 1536.81 L2174.29 1536.81 L2174.29 1540.7 L2169.36 1540.7 L2169.36 1548.85 L2164.71 1548.85 L2164.71 1540.7 L2149.11 1540.7 L2149.11 1536.19 L2163.48 1514.29 Z\" fill=\"#000000\" fill-rule=\"nonzero\" fill-opacity=\"1\" /><polyline clip-path=\"url(#clip590)\" style=\"stroke:#000000; stroke-linecap:round; stroke-linejoin:round; stroke-width:4; stroke-opacity:1; fill:none\" points=\"213.607,1486.45 213.607,47.2441 \"/>\n",
       "<polyline clip-path=\"url(#clip590)\" style=\"stroke:#000000; stroke-linecap:round; stroke-linejoin:round; stroke-width:4; stroke-opacity:1; fill:none\" points=\"213.607,1361.59 232.505,1361.59 \"/>\n",
       "<polyline clip-path=\"url(#clip590)\" style=\"stroke:#000000; stroke-linecap:round; stroke-linejoin:round; stroke-width:4; stroke-opacity:1; fill:none\" points=\"213.607,871.15 232.505,871.15 \"/>\n",
       "<polyline clip-path=\"url(#clip590)\" style=\"stroke:#000000; stroke-linecap:round; stroke-linejoin:round; stroke-width:4; stroke-opacity:1; fill:none\" points=\"213.607,380.711 232.505,380.711 \"/>\n",
       "<path clip-path=\"url(#clip590)\" d=\"M52.4722 1381.38 L60.111 1381.38 L60.111 1355.01 L51.8009 1356.68 L51.8009 1352.42 L60.0647 1350.76 L64.7406 1350.76 L64.7406 1381.38 L72.3795 1381.38 L72.3795 1385.32 L52.4722 1385.32 L52.4722 1381.38 Z\" fill=\"#000000\" fill-rule=\"nonzero\" fill-opacity=\"1\" /><path clip-path=\"url(#clip590)\" d=\"M91.8238 1353.83 Q88.2127 1353.83 86.384 1357.4 Q84.5785 1360.94 84.5785 1368.07 Q84.5785 1375.18 86.384 1378.74 Q88.2127 1382.28 91.8238 1382.28 Q95.458 1382.28 97.2636 1378.74 Q99.0923 1375.18 99.0923 1368.07 Q99.0923 1360.94 97.2636 1357.4 Q95.458 1353.83 91.8238 1353.83 M91.8238 1350.13 Q97.6339 1350.13 100.689 1354.74 Q103.768 1359.32 103.768 1368.07 Q103.768 1376.8 100.689 1381.4 Q97.6339 1385.99 91.8238 1385.99 Q86.0136 1385.99 82.935 1381.4 Q79.8794 1376.8 79.8794 1368.07 Q79.8794 1359.32 82.935 1354.74 Q86.0136 1350.13 91.8238 1350.13 Z\" fill=\"#000000\" fill-rule=\"nonzero\" fill-opacity=\"1\" /><path clip-path=\"url(#clip590)\" d=\"M103.768 1344.23 L127.88 1344.23 L127.88 1347.43 L103.768 1347.43 L103.768 1344.23 Z\" fill=\"#000000\" fill-rule=\"nonzero\" fill-opacity=\"1\" /><path clip-path=\"url(#clip590)\" d=\"M136.738 1354.71 L142.945 1354.71 L142.945 1333.29 L136.193 1334.64 L136.193 1331.18 L142.907 1329.83 L146.706 1329.83 L146.706 1354.71 L152.913 1354.71 L152.913 1357.91 L136.738 1357.91 L136.738 1354.71 Z\" fill=\"#000000\" fill-rule=\"nonzero\" fill-opacity=\"1\" /><path clip-path=\"url(#clip590)\" d=\"M160.624 1329.83 L175.539 1329.83 L175.539 1333.02 L164.103 1333.02 L164.103 1339.91 Q164.931 1339.62 165.759 1339.49 Q166.586 1339.34 167.414 1339.34 Q172.116 1339.34 174.862 1341.92 Q177.607 1344.5 177.607 1348.9 Q177.607 1353.43 174.786 1355.95 Q171.965 1358.45 166.831 1358.45 Q165.063 1358.45 163.22 1358.15 Q161.395 1357.85 159.439 1357.25 L159.439 1353.43 Q161.132 1354.35 162.937 1354.8 Q164.743 1355.25 166.755 1355.25 Q170.009 1355.25 171.909 1353.54 Q173.808 1351.83 173.808 1348.9 Q173.808 1345.96 171.909 1344.25 Q170.009 1342.54 166.755 1342.54 Q165.232 1342.54 163.709 1342.88 Q162.204 1343.22 160.624 1343.93 L160.624 1329.83 Z\" fill=\"#000000\" fill-rule=\"nonzero\" fill-opacity=\"1\" /><path clip-path=\"url(#clip590)\" d=\"M51.6634 890.942 L59.3023 890.942 L59.3023 864.576 L50.9921 866.243 L50.9921 861.984 L59.256 860.317 L63.9319 860.317 L63.9319 890.942 L71.5707 890.942 L71.5707 894.877 L51.6634 894.877 L51.6634 890.942 Z\" fill=\"#000000\" fill-rule=\"nonzero\" fill-opacity=\"1\" /><path clip-path=\"url(#clip590)\" d=\"M91.0151 863.396 Q87.404 863.396 85.5753 866.961 Q83.7697 870.502 83.7697 877.632 Q83.7697 884.738 85.5753 888.303 Q87.404 891.845 91.0151 891.845 Q94.6493 891.845 96.4548 888.303 Q98.2835 884.738 98.2835 877.632 Q98.2835 870.502 96.4548 866.961 Q94.6493 863.396 91.0151 863.396 M91.0151 859.692 Q96.8252 859.692 99.8808 864.299 Q102.959 868.882 102.959 877.632 Q102.959 886.359 99.8808 890.965 Q96.8252 895.549 91.0151 895.549 Q85.2049 895.549 82.1262 890.965 Q79.0707 886.359 79.0707 877.632 Q79.0707 868.882 82.1262 864.299 Q85.2049 859.692 91.0151 859.692 Z\" fill=\"#000000\" fill-rule=\"nonzero\" fill-opacity=\"1\" /><path clip-path=\"url(#clip590)\" d=\"M102.959 853.794 L127.071 853.794 L127.071 856.991 L102.959 856.991 L102.959 853.794 Z\" fill=\"#000000\" fill-rule=\"nonzero\" fill-opacity=\"1\" /><path clip-path=\"url(#clip590)\" d=\"M135.929 864.27 L142.136 864.27 L142.136 842.847 L135.384 844.202 L135.384 840.741 L142.098 839.387 L145.898 839.387 L145.898 864.27 L152.104 864.27 L152.104 867.467 L135.929 867.467 L135.929 864.27 Z\" fill=\"#000000\" fill-rule=\"nonzero\" fill-opacity=\"1\" /><path clip-path=\"url(#clip590)\" d=\"M167.903 841.888 Q164.969 841.888 163.483 844.785 Q162.016 847.662 162.016 853.455 Q162.016 859.229 163.483 862.125 Q164.969 865.003 167.903 865.003 Q170.855 865.003 172.322 862.125 Q173.808 859.229 173.808 853.455 Q173.808 847.662 172.322 844.785 Q170.855 841.888 167.903 841.888 M167.903 838.879 Q172.623 838.879 175.106 842.622 Q177.607 846.346 177.607 853.455 Q177.607 860.546 175.106 864.288 Q172.623 868.012 167.903 868.012 Q163.182 868.012 160.68 864.288 Q158.198 860.546 158.198 853.455 Q158.198 846.346 160.68 842.622 Q163.182 838.879 167.903 838.879 Z\" fill=\"#000000\" fill-rule=\"nonzero\" fill-opacity=\"1\" /><path clip-path=\"url(#clip590)\" d=\"M76.9787 400.504 L84.6175 400.504 L84.6175 374.138 L76.3074 375.805 L76.3074 371.546 L84.5712 369.879 L89.2471 369.879 L89.2471 400.504 L96.886 400.504 L96.886 404.439 L76.9787 404.439 L76.9787 400.504 Z\" fill=\"#000000\" fill-rule=\"nonzero\" fill-opacity=\"1\" /><path clip-path=\"url(#clip590)\" d=\"M116.33 372.958 Q112.719 372.958 110.891 376.522 Q109.085 380.064 109.085 387.194 Q109.085 394.3 110.891 397.865 Q112.719 401.407 116.33 401.407 Q119.965 401.407 121.77 397.865 Q123.599 394.3 123.599 387.194 Q123.599 380.064 121.77 376.522 Q119.965 372.958 116.33 372.958 M116.33 369.254 Q122.14 369.254 125.196 373.86 Q128.275 378.444 128.275 387.194 Q128.275 395.921 125.196 400.527 Q122.14 405.11 116.33 405.11 Q110.52 405.11 107.441 400.527 Q104.386 395.921 104.386 387.194 Q104.386 378.444 107.441 373.86 Q110.52 369.254 116.33 369.254 Z\" fill=\"#000000\" fill-rule=\"nonzero\" fill-opacity=\"1\" /><path clip-path=\"url(#clip590)\" d=\"M128.275 363.355 L152.386 363.355 L152.386 366.553 L128.275 366.553 L128.275 363.355 Z\" fill=\"#000000\" fill-rule=\"nonzero\" fill-opacity=\"1\" /><path clip-path=\"url(#clip590)\" d=\"M160.624 348.949 L175.539 348.949 L175.539 352.146 L164.103 352.146 L164.103 359.03 Q164.931 358.747 165.759 358.616 Q166.586 358.465 167.414 358.465 Q172.116 358.465 174.862 361.042 Q177.607 363.619 177.607 368.02 Q177.607 372.552 174.786 375.073 Q171.965 377.574 166.831 377.574 Q165.063 377.574 163.22 377.273 Q161.395 376.972 159.439 376.37 L159.439 372.552 Q161.132 373.474 162.937 373.925 Q164.743 374.377 166.755 374.377 Q170.009 374.377 171.909 372.665 Q173.808 370.954 173.808 368.02 Q173.808 365.086 171.909 363.374 Q170.009 361.663 166.755 361.663 Q165.232 361.663 163.709 362.001 Q162.204 362.34 160.624 363.054 L160.624 348.949 Z\" fill=\"#000000\" fill-rule=\"nonzero\" fill-opacity=\"1\" /><polyline clip-path=\"url(#clip592)\" style=\"stroke:#009af9; stroke-linecap:round; stroke-linejoin:round; stroke-width:4; stroke-opacity:1; fill:none\" points=\"274.149,1335.82 418.297,1445.72 562.444,1286.29 706.592,1179.13 850.739,1070.92 994.887,1058.45 1139.03,879.591 1283.18,783.803 1427.33,758.871 1571.48,635.067 1715.62,499.092 1859.77,451.015 2003.92,354.098 2148.07,208.579 2292.21,87.9763 \"/>\n",
       "<path clip-path=\"url(#clip590)\" d=\"M2015.11 198.898 L2281.45 198.898 L2281.45 95.2176 L2015.11 95.2176  Z\" fill=\"#ffffff\" fill-rule=\"evenodd\" fill-opacity=\"1\"/>\n",
       "<polyline clip-path=\"url(#clip590)\" style=\"stroke:#000000; stroke-linecap:round; stroke-linejoin:round; stroke-width:4; stroke-opacity:1; fill:none\" points=\"2015.11,198.898 2281.45,198.898 2281.45,95.2176 2015.11,95.2176 2015.11,198.898 \"/>\n",
       "<polyline clip-path=\"url(#clip590)\" style=\"stroke:#009af9; stroke-linecap:round; stroke-linejoin:round; stroke-width:4; stroke-opacity:1; fill:none\" points=\"2038.87,147.058 2181.48,147.058 \"/>\n",
       "<path clip-path=\"url(#clip590)\" d=\"M2219.09 166.745 Q2217.29 171.375 2215.58 172.787 Q2213.86 174.199 2210.99 174.199 L2207.59 174.199 L2207.59 170.634 L2210.09 170.634 Q2211.85 170.634 2212.82 169.8 Q2213.79 168.967 2214.97 165.865 L2215.74 163.921 L2205.25 138.412 L2209.77 138.412 L2217.87 158.689 L2225.97 138.412 L2230.48 138.412 L2219.09 166.745 Z\" fill=\"#000000\" fill-rule=\"nonzero\" fill-opacity=\"1\" /><path clip-path=\"url(#clip590)\" d=\"M2237.78 160.402 L2245.41 160.402 L2245.41 134.037 L2237.1 135.703 L2237.1 131.444 L2245.37 129.778 L2250.04 129.778 L2250.04 160.402 L2257.68 160.402 L2257.68 164.338 L2237.78 164.338 L2237.78 160.402 Z\" fill=\"#000000\" fill-rule=\"nonzero\" fill-opacity=\"1\" /></svg>\n"
      ],
      "text/html": [
       "<?xml version=\"1.0\" encoding=\"utf-8\"?>\n",
       "<svg xmlns=\"http://www.w3.org/2000/svg\" xmlns:xlink=\"http://www.w3.org/1999/xlink\" width=\"600\" height=\"400\" viewBox=\"0 0 2400 1600\">\n",
       "<defs>\n",
       "  <clipPath id=\"clip640\">\n",
       "    <rect x=\"0\" y=\"0\" width=\"2400\" height=\"1600\"/>\n",
       "  </clipPath>\n",
       "</defs>\n",
       "<path clip-path=\"url(#clip640)\" d=\"M0 1600 L2400 1600 L2400 0 L0 0  Z\" fill=\"#ffffff\" fill-rule=\"evenodd\" fill-opacity=\"1\"/>\n",
       "<defs>\n",
       "  <clipPath id=\"clip641\">\n",
       "    <rect x=\"480\" y=\"0\" width=\"1681\" height=\"1600\"/>\n",
       "  </clipPath>\n",
       "</defs>\n",
       "<path clip-path=\"url(#clip640)\" d=\"M213.607 1486.45 L2352.76 1486.45 L2352.76 47.2441 L213.607 47.2441  Z\" fill=\"#ffffff\" fill-rule=\"evenodd\" fill-opacity=\"1\"/>\n",
       "<defs>\n",
       "  <clipPath id=\"clip642\">\n",
       "    <rect x=\"213\" y=\"47\" width=\"2140\" height=\"1440\"/>\n",
       "  </clipPath>\n",
       "</defs>\n",
       "<polyline clip-path=\"url(#clip642)\" style=\"stroke:#000000; stroke-linecap:round; stroke-linejoin:round; stroke-width:2; stroke-opacity:0.1; fill:none\" points=\"418.297,1486.45 418.297,47.2441 \"/>\n",
       "<polyline clip-path=\"url(#clip642)\" style=\"stroke:#000000; stroke-linecap:round; stroke-linejoin:round; stroke-width:2; stroke-opacity:0.1; fill:none\" points=\"706.592,1486.45 706.592,47.2441 \"/>\n",
       "<polyline clip-path=\"url(#clip642)\" style=\"stroke:#000000; stroke-linecap:round; stroke-linejoin:round; stroke-width:2; stroke-opacity:0.1; fill:none\" points=\"994.887,1486.45 994.887,47.2441 \"/>\n",
       "<polyline clip-path=\"url(#clip642)\" style=\"stroke:#000000; stroke-linecap:round; stroke-linejoin:round; stroke-width:2; stroke-opacity:0.1; fill:none\" points=\"1283.18,1486.45 1283.18,47.2441 \"/>\n",
       "<polyline clip-path=\"url(#clip642)\" style=\"stroke:#000000; stroke-linecap:round; stroke-linejoin:round; stroke-width:2; stroke-opacity:0.1; fill:none\" points=\"1571.48,1486.45 1571.48,47.2441 \"/>\n",
       "<polyline clip-path=\"url(#clip642)\" style=\"stroke:#000000; stroke-linecap:round; stroke-linejoin:round; stroke-width:2; stroke-opacity:0.1; fill:none\" points=\"1859.77,1486.45 1859.77,47.2441 \"/>\n",
       "<polyline clip-path=\"url(#clip642)\" style=\"stroke:#000000; stroke-linecap:round; stroke-linejoin:round; stroke-width:2; stroke-opacity:0.1; fill:none\" points=\"2148.07,1486.45 2148.07,47.2441 \"/>\n",
       "<polyline clip-path=\"url(#clip642)\" style=\"stroke:#000000; stroke-linecap:round; stroke-linejoin:round; stroke-width:2; stroke-opacity:0.1; fill:none\" points=\"213.607,1361.59 2352.76,1361.59 \"/>\n",
       "<polyline clip-path=\"url(#clip642)\" style=\"stroke:#000000; stroke-linecap:round; stroke-linejoin:round; stroke-width:2; stroke-opacity:0.1; fill:none\" points=\"213.607,871.15 2352.76,871.15 \"/>\n",
       "<polyline clip-path=\"url(#clip642)\" style=\"stroke:#000000; stroke-linecap:round; stroke-linejoin:round; stroke-width:2; stroke-opacity:0.1; fill:none\" points=\"213.607,380.711 2352.76,380.711 \"/>\n",
       "<polyline clip-path=\"url(#clip640)\" style=\"stroke:#000000; stroke-linecap:round; stroke-linejoin:round; stroke-width:4; stroke-opacity:1; fill:none\" points=\"213.607,1486.45 2352.76,1486.45 \"/>\n",
       "<polyline clip-path=\"url(#clip640)\" style=\"stroke:#000000; stroke-linecap:round; stroke-linejoin:round; stroke-width:4; stroke-opacity:1; fill:none\" points=\"418.297,1486.45 418.297,1467.55 \"/>\n",
       "<polyline clip-path=\"url(#clip640)\" style=\"stroke:#000000; stroke-linecap:round; stroke-linejoin:round; stroke-width:4; stroke-opacity:1; fill:none\" points=\"706.592,1486.45 706.592,1467.55 \"/>\n",
       "<polyline clip-path=\"url(#clip640)\" style=\"stroke:#000000; stroke-linecap:round; stroke-linejoin:round; stroke-width:4; stroke-opacity:1; fill:none\" points=\"994.887,1486.45 994.887,1467.55 \"/>\n",
       "<polyline clip-path=\"url(#clip640)\" style=\"stroke:#000000; stroke-linecap:round; stroke-linejoin:round; stroke-width:4; stroke-opacity:1; fill:none\" points=\"1283.18,1486.45 1283.18,1467.55 \"/>\n",
       "<polyline clip-path=\"url(#clip640)\" style=\"stroke:#000000; stroke-linecap:round; stroke-linejoin:round; stroke-width:4; stroke-opacity:1; fill:none\" points=\"1571.48,1486.45 1571.48,1467.55 \"/>\n",
       "<polyline clip-path=\"url(#clip640)\" style=\"stroke:#000000; stroke-linecap:round; stroke-linejoin:round; stroke-width:4; stroke-opacity:1; fill:none\" points=\"1859.77,1486.45 1859.77,1467.55 \"/>\n",
       "<polyline clip-path=\"url(#clip640)\" style=\"stroke:#000000; stroke-linecap:round; stroke-linejoin:round; stroke-width:4; stroke-opacity:1; fill:none\" points=\"2148.07,1486.45 2148.07,1467.55 \"/>\n",
       "<path clip-path=\"url(#clip640)\" d=\"M412.95 1544.91 L429.269 1544.91 L429.269 1548.85 L407.325 1548.85 L407.325 1544.91 Q409.987 1542.16 414.57 1537.53 Q419.177 1532.88 420.357 1531.53 Q422.602 1529.01 423.482 1527.27 Q424.385 1525.51 424.385 1523.82 Q424.385 1521.07 422.44 1519.33 Q420.519 1517.6 417.417 1517.6 Q415.218 1517.6 412.765 1518.36 Q410.334 1519.13 407.556 1520.68 L407.556 1515.95 Q410.38 1514.82 412.834 1514.24 Q415.288 1513.66 417.325 1513.66 Q422.695 1513.66 425.889 1516.35 Q429.084 1519.03 429.084 1523.52 Q429.084 1525.65 428.274 1527.57 Q427.487 1529.47 425.38 1532.07 Q424.801 1532.74 421.7 1535.95 Q418.598 1539.15 412.95 1544.91 Z\" fill=\"#000000\" fill-rule=\"nonzero\" fill-opacity=\"1\" /><path clip-path=\"url(#clip640)\" d=\"M709.601 1518.36 L697.796 1536.81 L709.601 1536.81 L709.601 1518.36 M708.374 1514.29 L714.254 1514.29 L714.254 1536.81 L719.184 1536.81 L719.184 1540.7 L714.254 1540.7 L714.254 1548.85 L709.601 1548.85 L709.601 1540.7 L693.999 1540.7 L693.999 1536.19 L708.374 1514.29 Z\" fill=\"#000000\" fill-rule=\"nonzero\" fill-opacity=\"1\" /><path clip-path=\"url(#clip640)\" d=\"M995.292 1529.7 Q992.144 1529.7 990.292 1531.86 Q988.463 1534.01 988.463 1537.76 Q988.463 1541.49 990.292 1543.66 Q992.144 1545.82 995.292 1545.82 Q998.44 1545.82 1000.27 1543.66 Q1002.12 1541.49 1002.12 1537.76 Q1002.12 1534.01 1000.27 1531.86 Q998.44 1529.7 995.292 1529.7 M1004.57 1515.05 L1004.57 1519.31 Q1002.81 1518.48 1001.01 1518.04 Q999.227 1517.6 997.468 1517.6 Q992.838 1517.6 990.384 1520.72 Q987.954 1523.85 987.607 1530.17 Q988.972 1528.15 991.033 1527.09 Q993.093 1526 995.57 1526 Q1000.78 1526 1003.79 1529.17 Q1006.82 1532.32 1006.82 1537.76 Q1006.82 1543.08 1003.67 1546.3 Q1000.52 1549.52 995.292 1549.52 Q989.297 1549.52 986.125 1544.94 Q982.954 1540.33 982.954 1531.6 Q982.954 1523.41 986.843 1518.55 Q990.732 1513.66 997.283 1513.66 Q999.042 1513.66 1000.82 1514.01 Q1002.63 1514.36 1004.57 1515.05 Z\" fill=\"#000000\" fill-rule=\"nonzero\" fill-opacity=\"1\" /><path clip-path=\"url(#clip640)\" d=\"M1283.18 1532.44 Q1279.85 1532.44 1277.93 1534.22 Q1276.03 1536 1276.03 1539.13 Q1276.03 1542.25 1277.93 1544.03 Q1279.85 1545.82 1283.18 1545.82 Q1286.52 1545.82 1288.44 1544.03 Q1290.36 1542.23 1290.36 1539.13 Q1290.36 1536 1288.44 1534.22 Q1286.54 1532.44 1283.18 1532.44 M1278.51 1530.45 Q1275.5 1529.7 1273.81 1527.64 Q1272.14 1525.58 1272.14 1522.62 Q1272.14 1518.48 1275.08 1516.07 Q1278.04 1513.66 1283.18 1513.66 Q1288.34 1513.66 1291.28 1516.07 Q1294.22 1518.48 1294.22 1522.62 Q1294.22 1525.58 1292.53 1527.64 Q1290.87 1529.7 1287.88 1530.45 Q1291.26 1531.23 1293.14 1533.52 Q1295.03 1535.82 1295.03 1539.13 Q1295.03 1544.15 1291.95 1546.83 Q1288.9 1549.52 1283.18 1549.52 Q1277.46 1549.52 1274.39 1546.83 Q1271.33 1544.15 1271.33 1539.13 Q1271.33 1535.82 1273.23 1533.52 Q1275.13 1531.23 1278.51 1530.45 M1276.79 1523.06 Q1276.79 1525.75 1278.46 1527.25 Q1280.15 1528.76 1283.18 1528.76 Q1286.19 1528.76 1287.88 1527.25 Q1289.59 1525.75 1289.59 1523.06 Q1289.59 1520.38 1287.88 1518.87 Q1286.19 1517.37 1283.18 1517.37 Q1280.15 1517.37 1278.46 1518.87 Q1276.79 1520.38 1276.79 1523.06 Z\" fill=\"#000000\" fill-rule=\"nonzero\" fill-opacity=\"1\" /><path clip-path=\"url(#clip640)\" d=\"M1546.16 1544.91 L1553.8 1544.91 L1553.8 1518.55 L1545.49 1520.21 L1545.49 1515.95 L1553.76 1514.29 L1558.43 1514.29 L1558.43 1544.91 L1566.07 1544.91 L1566.07 1548.85 L1546.16 1548.85 L1546.16 1544.91 Z\" fill=\"#000000\" fill-rule=\"nonzero\" fill-opacity=\"1\" /><path clip-path=\"url(#clip640)\" d=\"M1585.52 1517.37 Q1581.9 1517.37 1580.08 1520.93 Q1578.27 1524.47 1578.27 1531.6 Q1578.27 1538.71 1580.08 1542.27 Q1581.9 1545.82 1585.52 1545.82 Q1589.15 1545.82 1590.96 1542.27 Q1592.78 1538.71 1592.78 1531.6 Q1592.78 1524.47 1590.96 1520.93 Q1589.15 1517.37 1585.52 1517.37 M1585.52 1513.66 Q1591.33 1513.66 1594.38 1518.27 Q1597.46 1522.85 1597.46 1531.6 Q1597.46 1540.33 1594.38 1544.94 Q1591.33 1549.52 1585.52 1549.52 Q1579.71 1549.52 1576.63 1544.94 Q1573.57 1540.33 1573.57 1531.6 Q1573.57 1522.85 1576.63 1518.27 Q1579.71 1513.66 1585.52 1513.66 Z\" fill=\"#000000\" fill-rule=\"nonzero\" fill-opacity=\"1\" /><path clip-path=\"url(#clip640)\" d=\"M1835.26 1544.91 L1842.9 1544.91 L1842.9 1518.55 L1834.59 1520.21 L1834.59 1515.95 L1842.85 1514.29 L1847.53 1514.29 L1847.53 1544.91 L1855.17 1544.91 L1855.17 1548.85 L1835.26 1548.85 L1835.26 1544.91 Z\" fill=\"#000000\" fill-rule=\"nonzero\" fill-opacity=\"1\" /><path clip-path=\"url(#clip640)\" d=\"M1868.64 1544.91 L1884.96 1544.91 L1884.96 1548.85 L1863.01 1548.85 L1863.01 1544.91 Q1865.67 1542.16 1870.26 1537.53 Q1874.86 1532.88 1876.04 1531.53 Q1878.29 1529.01 1879.17 1527.27 Q1880.07 1525.51 1880.07 1523.82 Q1880.07 1521.07 1878.13 1519.33 Q1876.21 1517.6 1873.1 1517.6 Q1870.91 1517.6 1868.45 1518.36 Q1866.02 1519.13 1863.24 1520.68 L1863.24 1515.95 Q1866.07 1514.82 1868.52 1514.24 Q1870.98 1513.66 1873.01 1513.66 Q1878.38 1513.66 1881.58 1516.35 Q1884.77 1519.03 1884.77 1523.52 Q1884.77 1525.65 1883.96 1527.57 Q1883.17 1529.47 1881.07 1532.07 Q1880.49 1532.74 1877.39 1535.95 Q1874.29 1539.15 1868.64 1544.91 Z\" fill=\"#000000\" fill-rule=\"nonzero\" fill-opacity=\"1\" /><path clip-path=\"url(#clip640)\" d=\"M2122.51 1544.91 L2130.15 1544.91 L2130.15 1518.55 L2121.84 1520.21 L2121.84 1515.95 L2130.1 1514.29 L2134.78 1514.29 L2134.78 1544.91 L2142.42 1544.91 L2142.42 1548.85 L2122.51 1548.85 L2122.51 1544.91 Z\" fill=\"#000000\" fill-rule=\"nonzero\" fill-opacity=\"1\" /><path clip-path=\"url(#clip640)\" d=\"M2164.71 1518.36 L2152.9 1536.81 L2164.71 1536.81 L2164.71 1518.36 M2163.48 1514.29 L2169.36 1514.29 L2169.36 1536.81 L2174.29 1536.81 L2174.29 1540.7 L2169.36 1540.7 L2169.36 1548.85 L2164.71 1548.85 L2164.71 1540.7 L2149.11 1540.7 L2149.11 1536.19 L2163.48 1514.29 Z\" fill=\"#000000\" fill-rule=\"nonzero\" fill-opacity=\"1\" /><polyline clip-path=\"url(#clip640)\" style=\"stroke:#000000; stroke-linecap:round; stroke-linejoin:round; stroke-width:4; stroke-opacity:1; fill:none\" points=\"213.607,1486.45 213.607,47.2441 \"/>\n",
       "<polyline clip-path=\"url(#clip640)\" style=\"stroke:#000000; stroke-linecap:round; stroke-linejoin:round; stroke-width:4; stroke-opacity:1; fill:none\" points=\"213.607,1361.59 232.505,1361.59 \"/>\n",
       "<polyline clip-path=\"url(#clip640)\" style=\"stroke:#000000; stroke-linecap:round; stroke-linejoin:round; stroke-width:4; stroke-opacity:1; fill:none\" points=\"213.607,871.15 232.505,871.15 \"/>\n",
       "<polyline clip-path=\"url(#clip640)\" style=\"stroke:#000000; stroke-linecap:round; stroke-linejoin:round; stroke-width:4; stroke-opacity:1; fill:none\" points=\"213.607,380.711 232.505,380.711 \"/>\n",
       "<path clip-path=\"url(#clip640)\" d=\"M52.4722 1381.38 L60.111 1381.38 L60.111 1355.01 L51.8009 1356.68 L51.8009 1352.42 L60.0647 1350.76 L64.7406 1350.76 L64.7406 1381.38 L72.3795 1381.38 L72.3795 1385.32 L52.4722 1385.32 L52.4722 1381.38 Z\" fill=\"#000000\" fill-rule=\"nonzero\" fill-opacity=\"1\" /><path clip-path=\"url(#clip640)\" d=\"M91.8238 1353.83 Q88.2127 1353.83 86.384 1357.4 Q84.5785 1360.94 84.5785 1368.07 Q84.5785 1375.18 86.384 1378.74 Q88.2127 1382.28 91.8238 1382.28 Q95.458 1382.28 97.2636 1378.74 Q99.0923 1375.18 99.0923 1368.07 Q99.0923 1360.94 97.2636 1357.4 Q95.458 1353.83 91.8238 1353.83 M91.8238 1350.13 Q97.6339 1350.13 100.689 1354.74 Q103.768 1359.32 103.768 1368.07 Q103.768 1376.8 100.689 1381.4 Q97.6339 1385.99 91.8238 1385.99 Q86.0136 1385.99 82.935 1381.4 Q79.8794 1376.8 79.8794 1368.07 Q79.8794 1359.32 82.935 1354.74 Q86.0136 1350.13 91.8238 1350.13 Z\" fill=\"#000000\" fill-rule=\"nonzero\" fill-opacity=\"1\" /><path clip-path=\"url(#clip640)\" d=\"M103.768 1344.23 L127.88 1344.23 L127.88 1347.43 L103.768 1347.43 L103.768 1344.23 Z\" fill=\"#000000\" fill-rule=\"nonzero\" fill-opacity=\"1\" /><path clip-path=\"url(#clip640)\" d=\"M136.738 1354.71 L142.945 1354.71 L142.945 1333.29 L136.193 1334.64 L136.193 1331.18 L142.907 1329.83 L146.706 1329.83 L146.706 1354.71 L152.913 1354.71 L152.913 1357.91 L136.738 1357.91 L136.738 1354.71 Z\" fill=\"#000000\" fill-rule=\"nonzero\" fill-opacity=\"1\" /><path clip-path=\"url(#clip640)\" d=\"M160.624 1329.83 L175.539 1329.83 L175.539 1333.02 L164.103 1333.02 L164.103 1339.91 Q164.931 1339.62 165.759 1339.49 Q166.586 1339.34 167.414 1339.34 Q172.116 1339.34 174.862 1341.92 Q177.607 1344.5 177.607 1348.9 Q177.607 1353.43 174.786 1355.95 Q171.965 1358.45 166.831 1358.45 Q165.063 1358.45 163.22 1358.15 Q161.395 1357.85 159.439 1357.25 L159.439 1353.43 Q161.132 1354.35 162.937 1354.8 Q164.743 1355.25 166.755 1355.25 Q170.009 1355.25 171.909 1353.54 Q173.808 1351.83 173.808 1348.9 Q173.808 1345.96 171.909 1344.25 Q170.009 1342.54 166.755 1342.54 Q165.232 1342.54 163.709 1342.88 Q162.204 1343.22 160.624 1343.93 L160.624 1329.83 Z\" fill=\"#000000\" fill-rule=\"nonzero\" fill-opacity=\"1\" /><path clip-path=\"url(#clip640)\" d=\"M51.6634 890.942 L59.3023 890.942 L59.3023 864.576 L50.9921 866.243 L50.9921 861.984 L59.256 860.317 L63.9319 860.317 L63.9319 890.942 L71.5707 890.942 L71.5707 894.877 L51.6634 894.877 L51.6634 890.942 Z\" fill=\"#000000\" fill-rule=\"nonzero\" fill-opacity=\"1\" /><path clip-path=\"url(#clip640)\" d=\"M91.0151 863.396 Q87.404 863.396 85.5753 866.961 Q83.7697 870.502 83.7697 877.632 Q83.7697 884.738 85.5753 888.303 Q87.404 891.845 91.0151 891.845 Q94.6493 891.845 96.4548 888.303 Q98.2835 884.738 98.2835 877.632 Q98.2835 870.502 96.4548 866.961 Q94.6493 863.396 91.0151 863.396 M91.0151 859.692 Q96.8252 859.692 99.8808 864.299 Q102.959 868.882 102.959 877.632 Q102.959 886.359 99.8808 890.965 Q96.8252 895.549 91.0151 895.549 Q85.2049 895.549 82.1262 890.965 Q79.0707 886.359 79.0707 877.632 Q79.0707 868.882 82.1262 864.299 Q85.2049 859.692 91.0151 859.692 Z\" fill=\"#000000\" fill-rule=\"nonzero\" fill-opacity=\"1\" /><path clip-path=\"url(#clip640)\" d=\"M102.959 853.794 L127.071 853.794 L127.071 856.991 L102.959 856.991 L102.959 853.794 Z\" fill=\"#000000\" fill-rule=\"nonzero\" fill-opacity=\"1\" /><path clip-path=\"url(#clip640)\" d=\"M135.929 864.27 L142.136 864.27 L142.136 842.847 L135.384 844.202 L135.384 840.741 L142.098 839.387 L145.898 839.387 L145.898 864.27 L152.104 864.27 L152.104 867.467 L135.929 867.467 L135.929 864.27 Z\" fill=\"#000000\" fill-rule=\"nonzero\" fill-opacity=\"1\" /><path clip-path=\"url(#clip640)\" d=\"M167.903 841.888 Q164.969 841.888 163.483 844.785 Q162.016 847.662 162.016 853.455 Q162.016 859.229 163.483 862.125 Q164.969 865.003 167.903 865.003 Q170.855 865.003 172.322 862.125 Q173.808 859.229 173.808 853.455 Q173.808 847.662 172.322 844.785 Q170.855 841.888 167.903 841.888 M167.903 838.879 Q172.623 838.879 175.106 842.622 Q177.607 846.346 177.607 853.455 Q177.607 860.546 175.106 864.288 Q172.623 868.012 167.903 868.012 Q163.182 868.012 160.68 864.288 Q158.198 860.546 158.198 853.455 Q158.198 846.346 160.68 842.622 Q163.182 838.879 167.903 838.879 Z\" fill=\"#000000\" fill-rule=\"nonzero\" fill-opacity=\"1\" /><path clip-path=\"url(#clip640)\" d=\"M76.9787 400.504 L84.6175 400.504 L84.6175 374.138 L76.3074 375.805 L76.3074 371.546 L84.5712 369.879 L89.2471 369.879 L89.2471 400.504 L96.886 400.504 L96.886 404.439 L76.9787 404.439 L76.9787 400.504 Z\" fill=\"#000000\" fill-rule=\"nonzero\" fill-opacity=\"1\" /><path clip-path=\"url(#clip640)\" d=\"M116.33 372.958 Q112.719 372.958 110.891 376.522 Q109.085 380.064 109.085 387.194 Q109.085 394.3 110.891 397.865 Q112.719 401.407 116.33 401.407 Q119.965 401.407 121.77 397.865 Q123.599 394.3 123.599 387.194 Q123.599 380.064 121.77 376.522 Q119.965 372.958 116.33 372.958 M116.33 369.254 Q122.14 369.254 125.196 373.86 Q128.275 378.444 128.275 387.194 Q128.275 395.921 125.196 400.527 Q122.14 405.11 116.33 405.11 Q110.52 405.11 107.441 400.527 Q104.386 395.921 104.386 387.194 Q104.386 378.444 107.441 373.86 Q110.52 369.254 116.33 369.254 Z\" fill=\"#000000\" fill-rule=\"nonzero\" fill-opacity=\"1\" /><path clip-path=\"url(#clip640)\" d=\"M128.275 363.355 L152.386 363.355 L152.386 366.553 L128.275 366.553 L128.275 363.355 Z\" fill=\"#000000\" fill-rule=\"nonzero\" fill-opacity=\"1\" /><path clip-path=\"url(#clip640)\" d=\"M160.624 348.949 L175.539 348.949 L175.539 352.146 L164.103 352.146 L164.103 359.03 Q164.931 358.747 165.759 358.616 Q166.586 358.465 167.414 358.465 Q172.116 358.465 174.862 361.042 Q177.607 363.619 177.607 368.02 Q177.607 372.552 174.786 375.073 Q171.965 377.574 166.831 377.574 Q165.063 377.574 163.22 377.273 Q161.395 376.972 159.439 376.37 L159.439 372.552 Q161.132 373.474 162.937 373.925 Q164.743 374.377 166.755 374.377 Q170.009 374.377 171.909 372.665 Q173.808 370.954 173.808 368.02 Q173.808 365.086 171.909 363.374 Q170.009 361.663 166.755 361.663 Q165.232 361.663 163.709 362.001 Q162.204 362.34 160.624 363.054 L160.624 348.949 Z\" fill=\"#000000\" fill-rule=\"nonzero\" fill-opacity=\"1\" /><polyline clip-path=\"url(#clip642)\" style=\"stroke:#009af9; stroke-linecap:round; stroke-linejoin:round; stroke-width:4; stroke-opacity:1; fill:none\" points=\"274.149,1335.82 418.297,1445.72 562.444,1286.29 706.592,1179.13 850.739,1070.92 994.887,1058.45 1139.03,879.591 1283.18,783.803 1427.33,758.871 1571.48,635.067 1715.62,499.092 1859.77,451.015 2003.92,354.098 2148.07,208.579 2292.21,87.9763 \"/>\n",
       "<path clip-path=\"url(#clip640)\" d=\"M2015.11 198.898 L2281.45 198.898 L2281.45 95.2176 L2015.11 95.2176  Z\" fill=\"#ffffff\" fill-rule=\"evenodd\" fill-opacity=\"1\"/>\n",
       "<polyline clip-path=\"url(#clip640)\" style=\"stroke:#000000; stroke-linecap:round; stroke-linejoin:round; stroke-width:4; stroke-opacity:1; fill:none\" points=\"2015.11,198.898 2281.45,198.898 2281.45,95.2176 2015.11,95.2176 2015.11,198.898 \"/>\n",
       "<polyline clip-path=\"url(#clip640)\" style=\"stroke:#009af9; stroke-linecap:round; stroke-linejoin:round; stroke-width:4; stroke-opacity:1; fill:none\" points=\"2038.87,147.058 2181.48,147.058 \"/>\n",
       "<path clip-path=\"url(#clip640)\" d=\"M2219.09 166.745 Q2217.29 171.375 2215.58 172.787 Q2213.86 174.199 2210.99 174.199 L2207.59 174.199 L2207.59 170.634 L2210.09 170.634 Q2211.85 170.634 2212.82 169.8 Q2213.79 168.967 2214.97 165.865 L2215.74 163.921 L2205.25 138.412 L2209.77 138.412 L2217.87 158.689 L2225.97 138.412 L2230.48 138.412 L2219.09 166.745 Z\" fill=\"#000000\" fill-rule=\"nonzero\" fill-opacity=\"1\" /><path clip-path=\"url(#clip640)\" d=\"M2237.78 160.402 L2245.41 160.402 L2245.41 134.037 L2237.1 135.703 L2237.1 131.444 L2245.37 129.778 L2250.04 129.778 L2250.04 160.402 L2257.68 160.402 L2257.68 164.338 L2237.78 164.338 L2237.78 160.402 Z\" fill=\"#000000\" fill-rule=\"nonzero\" fill-opacity=\"1\" /></svg>\n"
      ]
     },
     "execution_count": 55,
     "metadata": {},
     "output_type": "execute_result"
    }
   ],
   "source": [
    "# TODO: Do a log-log plot for A with its 1,1 entry set to different ε and guess the growth rate.\n",
    "n = 15\n",
    "errors = [0.0 for _ = 1:n]\n",
    "for k = 1:n\n",
    "    eps = 10.0 ^ (-k + 1)\n",
    "    A[1, 1] = eps\n",
    "    L,U = lu(A, NoPivot())\n",
    "    errors[k] = norm(A \\ b - U\\(L\\b))\n",
    "end\n",
    "\n",
    "plot(1:n, errors; yscale=:log10)\n",
    "# conjecture: grows exponentially"
   ]
  },
  {
   "cell_type": "markdown",
   "metadata": {},
   "source": [
    "-----"
   ]
  },
  {
   "cell_type": "markdown",
   "metadata": {},
   "source": [
    "## III.2.2 PLU Factorisation"
   ]
  },
  {
   "cell_type": "markdown",
   "metadata": {},
   "source": [
    "In general it is necessary to use pivoting, a feature you have seen\n",
    "in Gaussian elimination but as Problem 1 demonstrates we need to do so even if we do not encounter\n",
    "a zero. This corresponds to a factorisation of the form\n",
    "$$\n",
    " A = P^⊤LU\n",
    "$$\n",
    "where $P$ is a permutation matrix, $L$ is lower triangular and $U$ is upper triangular.\n",
    "We compute this as follows, printing out the permutation:"
   ]
  },
  {
   "cell_type": "code",
   "execution_count": 56,
   "metadata": {},
   "outputs": [
    {
     "data": {
      "text/plain": [
       "3-element Vector{Int64}:\n",
       " 2\n",
       " 3\n",
       " 1"
      ]
     },
     "execution_count": 56,
     "metadata": {},
     "output_type": "execute_result"
    }
   ],
   "source": [
    "A = [0.1 1 1;\n",
    "     2   4 8;\n",
    "     1   4 9]\n",
    "\n",
    "L,U,σ = lu(A)\n",
    "σ"
   ]
  },
  {
   "cell_type": "markdown",
   "metadata": {},
   "source": [
    "The permutation matrix is encoded as a vector $σ$. More precisely, we have\n",
    "$$\n",
    "    P 𝐯 = 𝐯[σ]\n",
    "$$\n",
    "Thus we can solve a linear system by  first permuting the entries of the right-hand side:"
   ]
  },
  {
   "cell_type": "code",
   "execution_count": 57,
   "metadata": {},
   "outputs": [
    {
     "data": {
      "text/plain": [
       "3-element Vector{Int64}:\n",
       " 11\n",
       " 12\n",
       " 10"
      ]
     },
     "execution_count": 57,
     "metadata": {},
     "output_type": "execute_result"
    }
   ],
   "source": [
    "b = [10,11,12]\n",
    "b̃ = b[σ] # permute the entries to [b[2],b[3],b[1]]"
   ]
  },
  {
   "cell_type": "markdown",
   "metadata": {},
   "source": [
    "And then inverting $L$ and $U$ as before:"
   ]
  },
  {
   "cell_type": "code",
   "execution_count": 58,
   "metadata": {},
   "outputs": [
    {
     "data": {
      "text/plain": [
       "\u001b[32m\u001b[1mTest Passed\u001b[22m\u001b[39m"
      ]
     },
     "execution_count": 58,
     "metadata": {},
     "output_type": "execute_result"
    }
   ],
   "source": [
    "c = L \\ b̃ # invert L with forward substitution\n",
    "x = U \\ c # invert U with back substitution\n",
    "\n",
    "@test x == A \\ b # \\ also use PLU to do the solve so these exactly equal"
   ]
  },
  {
   "cell_type": "markdown",
   "metadata": {},
   "source": [
    "Note in the following problems we will see that PLU is _usually_ stable but not always.\n",
    "Fortunately the set of matrices where it fails to be accurate has extremely small measure.\n",
    "The big _open problem_ in numerical linear algebra is to turn this observation into a precise statement."
   ]
  },
  {
   "cell_type": "markdown",
   "metadata": {},
   "source": [
    "-----"
   ]
  },
  {
   "cell_type": "markdown",
   "metadata": {},
   "source": [
    "**Problem 2(a)** Complete the function  `badmatrix(n)` that returns the following $ℤ^{n × n}$ matrix:\n",
    "$$\n",
    "  B_n := \\begin{bmatrix}\n",
    "      1      &&&& 1  \\\\\n",
    "      -1 & 1       &&& 1   \\\\\n",
    "      ⋮ & ⋱ & ⋱   && ⋮    \\\\\n",
    "      -1 & ⋯ & -1 & 1 & 1 \\\\\n",
    "      -1 & ⋯ & -1 & -1 & 1\n",
    "  \\end{bmatrix}\n",
    "$$\n",
    "That is: all entries below the diagonal are $-1$ whilst the diagonal and last column are $1$."
   ]
  },
  {
   "cell_type": "code",
   "execution_count": 62,
   "metadata": {},
   "outputs": [
    {
     "data": {
      "text/plain": [
       "\u001b[32m\u001b[1mTest Passed\u001b[22m\u001b[39m"
      ]
     },
     "execution_count": 62,
     "metadata": {},
     "output_type": "execute_result"
    }
   ],
   "source": [
    "function badmatrix(n)\n",
    "    # TODO: make the \"bad matrix\" with `Int` entries defined above and return it\n",
    "    A = zeros(Int, n, n)\n",
    "    for j = 1 : n - 1\n",
    "        for i = j + 1 : n\n",
    "            A[i, j] = - 1\n",
    "        end\n",
    "    end\n",
    "    for i = 1:n\n",
    "        A[i, i] = 1\n",
    "    end\n",
    "    A[:, end] = ones(Int, n)\n",
    "    A\n",
    "end\n",
    "\n",
    "@test badmatrix(3) isa Matrix{Int}\n",
    "@test badmatrix(3) == [1 0 1; -1 1 1; -1 -1 1]"
   ]
  },
  {
   "cell_type": "markdown",
   "metadata": {},
   "source": [
    "**Problem 2(b)** Does `lu` use pivoting with `badmatrix(n)`? Does it use\n",
    "pivoting with a small random perturbation (created via `randn(n,n)`)?"
   ]
  },
  {
   "cell_type": "code",
   "execution_count": 66,
   "metadata": {},
   "outputs": [
    {
     "name": "stdout",
     "output_type": "stream",
     "text": [
      "false\n",
      "true\n"
     ]
    }
   ],
   "source": [
    "# TODO: Use `lu` on `badmatrix(n)` and a small perturbation to determine if it\n",
    "# is using pivoting.\n",
    "n = 5\n",
    "bad = badmatrix(n)\n",
    "b = randn(n)\n",
    "L, U = lu(bad)\n",
    "usesPivoting = !(bad \\ b ≈ (U \\ (L \\ b)))\n",
    "println(usesPivoting)\n",
    "\n",
    "perturbed = bad + randn(n, n)\n",
    "L, U = lu(perturbed)\n",
    "usesPivoting = !(perturbed \\ b ≈ (U \\ (L \\ b)))\n",
    "println(usesPivoting)"
   ]
  },
  {
   "cell_type": "markdown",
   "metadata": {},
   "source": [
    "**Problem 2(c)** We can test the accuracy of a method for inverting a matrix\n",
    "by applying the matrix and seeing how different it was from the input, eg.\n",
    "computing `norm(A*(A\\b) - b)`. This would be zero if everything was done with\n",
    "exact arithmetic. Plot the norm of this error for `b = randn(n)` for `bandmatrix(n)`\n",
    "and `badmatrix(n) + 1E-15*randn(n,n)` for `n = 25, 50, 75, 100` and\n",
    "compare the observed differences in accuracy of PLU."
   ]
  },
  {
   "cell_type": "code",
   "execution_count": 69,
   "metadata": {},
   "outputs": [
    {
     "data": {
      "image/png": "[encoded data removed]",
      "image/svg+xml": [
       "<?xml version=\"1.0\" encoding=\"utf-8\"?>\n",
       "<svg xmlns=\"http://www.w3.org/2000/svg\" xmlns:xlink=\"http://www.w3.org/1999/xlink\" width=\"600\" height=\"400\" viewBox=\"0 0 2400 1600\">\n",
       "<defs>\n",
       "  <clipPath id=\"clip680\">\n",
       "    <rect x=\"0\" y=\"0\" width=\"2400\" height=\"1600\"/>\n",
       "  </clipPath>\n",
       "</defs>\n",
       "<path clip-path=\"url(#clip680)\" d=\"M0 1600 L2400 1600 L2400 0 L0 0  Z\" fill=\"#ffffff\" fill-rule=\"evenodd\" fill-opacity=\"1\"/>\n",
       "<defs>\n",
       "  <clipPath id=\"clip681\">\n",
       "    <rect x=\"480\" y=\"0\" width=\"1681\" height=\"1600\"/>\n",
       "  </clipPath>\n",
       "</defs>\n",
       "<path clip-path=\"url(#clip680)\" d=\"M138.959 1486.45 L2352.76 1486.45 L2352.76 47.2441 L138.959 47.2441  Z\" fill=\"#ffffff\" fill-rule=\"evenodd\" fill-opacity=\"1\"/>\n",
       "<defs>\n",
       "  <clipPath id=\"clip682\">\n",
       "    <rect x=\"138\" y=\"47\" width=\"2215\" height=\"1440\"/>\n",
       "  </clipPath>\n",
       "</defs>\n",
       "<polyline clip-path=\"url(#clip682)\" style=\"stroke:#000000; stroke-linecap:round; stroke-linejoin:round; stroke-width:2; stroke-opacity:0.1; fill:none\" points=\"619.312,1486.45 619.312,47.2441 \"/>\n",
       "<polyline clip-path=\"url(#clip682)\" style=\"stroke:#000000; stroke-linecap:round; stroke-linejoin:round; stroke-width:2; stroke-opacity:0.1; fill:none\" points=\"1176.24,1486.45 1176.24,47.2441 \"/>\n",
       "<polyline clip-path=\"url(#clip682)\" style=\"stroke:#000000; stroke-linecap:round; stroke-linejoin:round; stroke-width:2; stroke-opacity:0.1; fill:none\" points=\"1733.17,1486.45 1733.17,47.2441 \"/>\n",
       "<polyline clip-path=\"url(#clip682)\" style=\"stroke:#000000; stroke-linecap:round; stroke-linejoin:round; stroke-width:2; stroke-opacity:0.1; fill:none\" points=\"2290.1,1486.45 2290.1,47.2441 \"/>\n",
       "<polyline clip-path=\"url(#clip682)\" style=\"stroke:#000000; stroke-linecap:round; stroke-linejoin:round; stroke-width:2; stroke-opacity:0.1; fill:none\" points=\"138.959,1445.72 2352.76,1445.72 \"/>\n",
       "<polyline clip-path=\"url(#clip682)\" style=\"stroke:#000000; stroke-linecap:round; stroke-linejoin:round; stroke-width:2; stroke-opacity:0.1; fill:none\" points=\"138.959,1237.43 2352.76,1237.43 \"/>\n",
       "<polyline clip-path=\"url(#clip682)\" style=\"stroke:#000000; stroke-linecap:round; stroke-linejoin:round; stroke-width:2; stroke-opacity:0.1; fill:none\" points=\"138.959,1029.13 2352.76,1029.13 \"/>\n",
       "<polyline clip-path=\"url(#clip682)\" style=\"stroke:#000000; stroke-linecap:round; stroke-linejoin:round; stroke-width:2; stroke-opacity:0.1; fill:none\" points=\"138.959,820.845 2352.76,820.845 \"/>\n",
       "<polyline clip-path=\"url(#clip682)\" style=\"stroke:#000000; stroke-linecap:round; stroke-linejoin:round; stroke-width:2; stroke-opacity:0.1; fill:none\" points=\"138.959,612.554 2352.76,612.554 \"/>\n",
       "<polyline clip-path=\"url(#clip682)\" style=\"stroke:#000000; stroke-linecap:round; stroke-linejoin:round; stroke-width:2; stroke-opacity:0.1; fill:none\" points=\"138.959,404.264 2352.76,404.264 \"/>\n",
       "<polyline clip-path=\"url(#clip682)\" style=\"stroke:#000000; stroke-linecap:round; stroke-linejoin:round; stroke-width:2; stroke-opacity:0.1; fill:none\" points=\"138.959,195.973 2352.76,195.973 \"/>\n",
       "<polyline clip-path=\"url(#clip680)\" style=\"stroke:#000000; stroke-linecap:round; stroke-linejoin:round; stroke-width:4; stroke-opacity:1; fill:none\" points=\"138.959,1486.45 2352.76,1486.45 \"/>\n",
       "<polyline clip-path=\"url(#clip680)\" style=\"stroke:#000000; stroke-linecap:round; stroke-linejoin:round; stroke-width:4; stroke-opacity:1; fill:none\" points=\"619.312,1486.45 619.312,1467.55 \"/>\n",
       "<polyline clip-path=\"url(#clip680)\" style=\"stroke:#000000; stroke-linecap:round; stroke-linejoin:round; stroke-width:4; stroke-opacity:1; fill:none\" points=\"1176.24,1486.45 1176.24,1467.55 \"/>\n",
       "<polyline clip-path=\"url(#clip680)\" style=\"stroke:#000000; stroke-linecap:round; stroke-linejoin:round; stroke-width:4; stroke-opacity:1; fill:none\" points=\"1733.17,1486.45 1733.17,1467.55 \"/>\n",
       "<polyline clip-path=\"url(#clip680)\" style=\"stroke:#000000; stroke-linecap:round; stroke-linejoin:round; stroke-width:4; stroke-opacity:1; fill:none\" points=\"2290.1,1486.45 2290.1,1467.55 \"/>\n",
       "<path clip-path=\"url(#clip680)\" d=\"M607.483 1518.36 L595.677 1536.81 L607.483 1536.81 L607.483 1518.36 M606.256 1514.29 L612.136 1514.29 L612.136 1536.81 L617.066 1536.81 L617.066 1540.7 L612.136 1540.7 L612.136 1548.85 L607.483 1548.85 L607.483 1540.7 L591.881 1540.7 L591.881 1536.19 L606.256 1514.29 Z\" fill=\"#000000\" fill-rule=\"nonzero\" fill-opacity=\"1\" /><path clip-path=\"url(#clip680)\" d=\"M634.798 1517.37 Q631.186 1517.37 629.358 1520.93 Q627.552 1524.47 627.552 1531.6 Q627.552 1538.71 629.358 1542.27 Q631.186 1545.82 634.798 1545.82 Q638.432 1545.82 640.237 1542.27 Q642.066 1538.71 642.066 1531.6 Q642.066 1524.47 640.237 1520.93 Q638.432 1517.37 634.798 1517.37 M634.798 1513.66 Q640.608 1513.66 643.663 1518.27 Q646.742 1522.85 646.742 1531.6 Q646.742 1540.33 643.663 1544.94 Q640.608 1549.52 634.798 1549.52 Q628.987 1549.52 625.909 1544.94 Q622.853 1540.33 622.853 1531.6 Q622.853 1522.85 625.909 1518.27 Q628.987 1513.66 634.798 1513.66 Z\" fill=\"#000000\" fill-rule=\"nonzero\" fill-opacity=\"1\" /><path clip-path=\"url(#clip680)\" d=\"M1161.65 1529.7 Q1158.5 1529.7 1156.65 1531.86 Q1154.82 1534.01 1154.82 1537.76 Q1154.82 1541.49 1156.65 1543.66 Q1158.5 1545.82 1161.65 1545.82 Q1164.79 1545.82 1166.62 1543.66 Q1168.48 1541.49 1168.48 1537.76 Q1168.48 1534.01 1166.62 1531.86 Q1164.79 1529.7 1161.65 1529.7 M1170.93 1515.05 L1170.93 1519.31 Q1169.17 1518.48 1167.36 1518.04 Q1165.58 1517.6 1163.82 1517.6 Q1159.19 1517.6 1156.74 1520.72 Q1154.31 1523.85 1153.96 1530.17 Q1155.33 1528.15 1157.39 1527.09 Q1159.45 1526 1161.92 1526 Q1167.13 1526 1170.14 1529.17 Q1173.17 1532.32 1173.17 1537.76 Q1173.17 1543.08 1170.03 1546.3 Q1166.88 1549.52 1161.65 1549.52 Q1155.65 1549.52 1152.48 1544.94 Q1149.31 1540.33 1149.31 1531.6 Q1149.31 1523.41 1153.2 1518.55 Q1157.09 1513.66 1163.64 1513.66 Q1165.4 1513.66 1167.18 1514.01 Q1168.98 1514.36 1170.93 1515.05 Z\" fill=\"#000000\" fill-rule=\"nonzero\" fill-opacity=\"1\" /><path clip-path=\"url(#clip680)\" d=\"M1191.23 1517.37 Q1187.62 1517.37 1185.79 1520.93 Q1183.98 1524.47 1183.98 1531.6 Q1183.98 1538.71 1185.79 1542.27 Q1187.62 1545.82 1191.23 1545.82 Q1194.86 1545.82 1196.67 1542.27 Q1198.5 1538.71 1198.5 1531.6 Q1198.5 1524.47 1196.67 1520.93 Q1194.86 1517.37 1191.23 1517.37 M1191.23 1513.66 Q1197.04 1513.66 1200.1 1518.27 Q1203.17 1522.85 1203.17 1531.6 Q1203.17 1540.33 1200.1 1544.94 Q1197.04 1549.52 1191.23 1549.52 Q1185.42 1549.52 1182.34 1544.94 Q1179.29 1540.33 1179.29 1531.6 Q1179.29 1522.85 1182.34 1518.27 Q1185.42 1513.66 1191.23 1513.66 Z\" fill=\"#000000\" fill-rule=\"nonzero\" fill-opacity=\"1\" /><path clip-path=\"url(#clip680)\" d=\"M1718.04 1532.44 Q1714.71 1532.44 1712.79 1534.22 Q1710.89 1536 1710.89 1539.13 Q1710.89 1542.25 1712.79 1544.03 Q1714.71 1545.82 1718.04 1545.82 Q1721.38 1545.82 1723.3 1544.03 Q1725.22 1542.23 1725.22 1539.13 Q1725.22 1536 1723.3 1534.22 Q1721.4 1532.44 1718.04 1532.44 M1713.37 1530.45 Q1710.36 1529.7 1708.67 1527.64 Q1707 1525.58 1707 1522.62 Q1707 1518.48 1709.94 1516.07 Q1712.91 1513.66 1718.04 1513.66 Q1723.21 1513.66 1726.15 1516.07 Q1729.09 1518.48 1729.09 1522.62 Q1729.09 1525.58 1727.4 1527.64 Q1725.73 1529.7 1722.74 1530.45 Q1726.12 1531.23 1728 1533.52 Q1729.9 1535.82 1729.9 1539.13 Q1729.9 1544.15 1726.82 1546.83 Q1723.76 1549.52 1718.04 1549.52 Q1712.33 1549.52 1709.25 1546.83 Q1706.19 1544.15 1706.19 1539.13 Q1706.19 1535.82 1708.09 1533.52 Q1709.99 1531.23 1713.37 1530.45 M1711.66 1523.06 Q1711.66 1525.75 1713.32 1527.25 Q1715.01 1528.76 1718.04 1528.76 Q1721.05 1528.76 1722.74 1527.25 Q1724.46 1525.75 1724.46 1523.06 Q1724.46 1520.38 1722.74 1518.87 Q1721.05 1517.37 1718.04 1517.37 Q1715.01 1517.37 1713.32 1518.87 Q1711.66 1520.38 1711.66 1523.06 Z\" fill=\"#000000\" fill-rule=\"nonzero\" fill-opacity=\"1\" /><path clip-path=\"url(#clip680)\" d=\"M1748.21 1517.37 Q1744.59 1517.37 1742.77 1520.93 Q1740.96 1524.47 1740.96 1531.6 Q1740.96 1538.71 1742.77 1542.27 Q1744.59 1545.82 1748.21 1545.82 Q1751.84 1545.82 1753.65 1542.27 Q1755.47 1538.71 1755.47 1531.6 Q1755.47 1524.47 1753.65 1520.93 Q1751.84 1517.37 1748.21 1517.37 M1748.21 1513.66 Q1754.02 1513.66 1757.07 1518.27 Q1760.15 1522.85 1760.15 1531.6 Q1760.15 1540.33 1757.07 1544.94 Q1754.02 1549.52 1748.21 1549.52 Q1742.4 1549.52 1739.32 1544.94 Q1736.26 1540.33 1736.26 1531.6 Q1736.26 1522.85 1739.32 1518.27 Q1742.4 1513.66 1748.21 1513.66 Z\" fill=\"#000000\" fill-rule=\"nonzero\" fill-opacity=\"1\" /><path clip-path=\"url(#clip680)\" d=\"M2249.71 1544.91 L2257.35 1544.91 L2257.35 1518.55 L2249.04 1520.21 L2249.04 1515.95 L2257.3 1514.29 L2261.98 1514.29 L2261.98 1544.91 L2269.62 1544.91 L2269.62 1548.85 L2249.71 1548.85 L2249.71 1544.91 Z\" fill=\"#000000\" fill-rule=\"nonzero\" fill-opacity=\"1\" /><path clip-path=\"url(#clip680)\" d=\"M2289.06 1517.37 Q2285.45 1517.37 2283.62 1520.93 Q2281.81 1524.47 2281.81 1531.6 Q2281.81 1538.71 2283.62 1542.27 Q2285.45 1545.82 2289.06 1545.82 Q2292.69 1545.82 2294.5 1542.27 Q2296.33 1538.71 2296.33 1531.6 Q2296.33 1524.47 2294.5 1520.93 Q2292.69 1517.37 2289.06 1517.37 M2289.06 1513.66 Q2294.87 1513.66 2297.93 1518.27 Q2301 1522.85 2301 1531.6 Q2301 1540.33 2297.93 1544.94 Q2294.87 1549.52 2289.06 1549.52 Q2283.25 1549.52 2280.17 1544.94 Q2277.12 1540.33 2277.12 1531.6 Q2277.12 1522.85 2280.17 1518.27 Q2283.25 1513.66 2289.06 1513.66 Z\" fill=\"#000000\" fill-rule=\"nonzero\" fill-opacity=\"1\" /><path clip-path=\"url(#clip680)\" d=\"M2319.22 1517.37 Q2315.61 1517.37 2313.78 1520.93 Q2311.98 1524.47 2311.98 1531.6 Q2311.98 1538.71 2313.78 1542.27 Q2315.61 1545.82 2319.22 1545.82 Q2322.86 1545.82 2324.66 1542.27 Q2326.49 1538.71 2326.49 1531.6 Q2326.49 1524.47 2324.66 1520.93 Q2322.86 1517.37 2319.22 1517.37 M2319.22 1513.66 Q2325.03 1513.66 2328.09 1518.27 Q2331.17 1522.85 2331.17 1531.6 Q2331.17 1540.33 2328.09 1544.94 Q2325.03 1549.52 2319.22 1549.52 Q2313.41 1549.52 2310.33 1544.94 Q2307.28 1540.33 2307.28 1531.6 Q2307.28 1522.85 2310.33 1518.27 Q2313.41 1513.66 2319.22 1513.66 Z\" fill=\"#000000\" fill-rule=\"nonzero\" fill-opacity=\"1\" /><polyline clip-path=\"url(#clip680)\" style=\"stroke:#000000; stroke-linecap:round; stroke-linejoin:round; stroke-width:4; stroke-opacity:1; fill:none\" points=\"138.959,1486.45 138.959,47.2441 \"/>\n",
       "<polyline clip-path=\"url(#clip680)\" style=\"stroke:#000000; stroke-linecap:round; stroke-linejoin:round; stroke-width:4; stroke-opacity:1; fill:none\" points=\"138.959,1445.72 157.857,1445.72 \"/>\n",
       "<polyline clip-path=\"url(#clip680)\" style=\"stroke:#000000; stroke-linecap:round; stroke-linejoin:round; stroke-width:4; stroke-opacity:1; fill:none\" points=\"138.959,1237.43 157.857,1237.43 \"/>\n",
       "<polyline clip-path=\"url(#clip680)\" style=\"stroke:#000000; stroke-linecap:round; stroke-linejoin:round; stroke-width:4; stroke-opacity:1; fill:none\" points=\"138.959,1029.13 157.857,1029.13 \"/>\n",
       "<polyline clip-path=\"url(#clip680)\" style=\"stroke:#000000; stroke-linecap:round; stroke-linejoin:round; stroke-width:4; stroke-opacity:1; fill:none\" points=\"138.959,820.845 157.857,820.845 \"/>\n",
       "<polyline clip-path=\"url(#clip680)\" style=\"stroke:#000000; stroke-linecap:round; stroke-linejoin:round; stroke-width:4; stroke-opacity:1; fill:none\" points=\"138.959,612.554 157.857,612.554 \"/>\n",
       "<polyline clip-path=\"url(#clip680)\" style=\"stroke:#000000; stroke-linecap:round; stroke-linejoin:round; stroke-width:4; stroke-opacity:1; fill:none\" points=\"138.959,404.264 157.857,404.264 \"/>\n",
       "<polyline clip-path=\"url(#clip680)\" style=\"stroke:#000000; stroke-linecap:round; stroke-linejoin:round; stroke-width:4; stroke-opacity:1; fill:none\" points=\"138.959,195.973 157.857,195.973 \"/>\n",
       "<path clip-path=\"url(#clip680)\" d=\"M91.0151 1431.51 Q87.404 1431.51 85.5753 1435.08 Q83.7697 1438.62 83.7697 1445.75 Q83.7697 1452.86 85.5753 1456.42 Q87.404 1459.96 91.0151 1459.96 Q94.6493 1459.96 96.4548 1456.42 Q98.2835 1452.86 98.2835 1445.75 Q98.2835 1438.62 96.4548 1435.08 Q94.6493 1431.51 91.0151 1431.51 M91.0151 1427.81 Q96.8252 1427.81 99.8808 1432.42 Q102.959 1437 102.959 1445.75 Q102.959 1454.48 99.8808 1459.08 Q96.8252 1463.67 91.0151 1463.67 Q85.2049 1463.67 82.1262 1459.08 Q79.0707 1454.48 79.0707 1445.75 Q79.0707 1437 82.1262 1432.42 Q85.2049 1427.81 91.0151 1427.81 Z\" fill=\"#000000\" fill-rule=\"nonzero\" fill-opacity=\"1\" /><path clip-path=\"url(#clip680)\" d=\"M86.6401 1250.77 L102.959 1250.77 L102.959 1254.71 L81.0151 1254.71 L81.0151 1250.77 Q83.6771 1248.02 88.2604 1243.39 Q92.8669 1238.73 94.0475 1237.39 Q96.2928 1234.87 97.1724 1233.13 Q98.0752 1231.37 98.0752 1229.68 Q98.0752 1226.93 96.1308 1225.19 Q94.2095 1223.46 91.1077 1223.46 Q88.9086 1223.46 86.4549 1224.22 Q84.0244 1224.98 81.2466 1226.53 L81.2466 1221.81 Q84.0707 1220.68 86.5243 1220.1 Q88.978 1219.52 91.0151 1219.52 Q96.3854 1219.52 99.5798 1222.21 Q102.774 1224.89 102.774 1229.38 Q102.774 1231.51 101.964 1233.43 Q101.177 1235.33 99.0706 1237.92 Q98.4919 1238.59 95.39 1241.81 Q92.2882 1245.01 86.6401 1250.77 Z\" fill=\"#000000\" fill-rule=\"nonzero\" fill-opacity=\"1\" /><path clip-path=\"url(#clip680)\" d=\"M93.3762 1015.93 L81.5707 1034.38 L93.3762 1034.38 L93.3762 1015.93 M92.1493 1011.85 L98.0289 1011.85 L98.0289 1034.38 L102.959 1034.38 L102.959 1038.27 L98.0289 1038.27 L98.0289 1046.41 L93.3762 1046.41 L93.3762 1038.27 L77.7744 1038.27 L77.7744 1033.75 L92.1493 1011.85 Z\" fill=\"#000000\" fill-rule=\"nonzero\" fill-opacity=\"1\" /><path clip-path=\"url(#clip680)\" d=\"M91.4317 818.981 Q88.2836 818.981 86.4318 821.134 Q84.6031 823.287 84.6031 827.037 Q84.6031 830.763 86.4318 832.939 Q88.2836 835.092 91.4317 835.092 Q94.5799 835.092 96.4085 832.939 Q98.2604 830.763 98.2604 827.037 Q98.2604 823.287 96.4085 821.134 Q94.5799 818.981 91.4317 818.981 M100.714 804.328 L100.714 808.588 Q98.9548 807.754 97.1493 807.315 Q95.3669 806.875 93.6076 806.875 Q88.978 806.875 86.5243 810 Q84.0938 813.125 83.7466 819.444 Q85.1123 817.43 87.1725 816.365 Q89.2327 815.277 91.7095 815.277 Q96.9178 815.277 99.927 818.449 Q102.959 821.597 102.959 827.037 Q102.959 832.361 99.8113 835.578 Q96.6632 838.796 91.4317 838.796 Q85.4364 838.796 82.2651 834.213 Q79.0938 829.606 79.0938 820.879 Q79.0938 812.685 82.9827 807.824 Q86.8716 802.94 93.4225 802.94 Q95.1817 802.94 96.9641 803.287 Q98.7696 803.634 100.714 804.328 Z\" fill=\"#000000\" fill-rule=\"nonzero\" fill-opacity=\"1\" /><path clip-path=\"url(#clip680)\" d=\"M91.1077 613.422 Q87.7743 613.422 85.8531 615.205 Q83.9549 616.987 83.9549 620.112 Q83.9549 623.237 85.8531 625.019 Q87.7743 626.802 91.1077 626.802 Q94.441 626.802 96.3623 625.019 Q98.2835 623.214 98.2835 620.112 Q98.2835 616.987 96.3623 615.205 Q94.4641 613.422 91.1077 613.422 M86.4318 611.431 Q83.4225 610.691 81.7327 608.631 Q80.066 606.57 80.066 603.607 Q80.066 599.464 83.0058 597.057 Q85.9688 594.649 91.1077 594.649 Q96.2697 594.649 99.2095 597.057 Q102.149 599.464 102.149 603.607 Q102.149 606.57 100.459 608.631 Q98.7928 610.691 95.8067 611.431 Q99.1863 612.218 101.061 614.51 Q102.959 616.802 102.959 620.112 Q102.959 625.135 99.8808 627.82 Q96.8252 630.505 91.1077 630.505 Q85.3901 630.505 82.3114 627.82 Q79.2559 625.135 79.2559 620.112 Q79.2559 616.802 81.154 614.51 Q83.0521 612.218 86.4318 611.431 M84.7188 604.047 Q84.7188 606.732 86.3855 608.237 Q88.0753 609.742 91.1077 609.742 Q94.1169 609.742 95.8067 608.237 Q97.5197 606.732 97.5197 604.047 Q97.5197 601.362 95.8067 599.857 Q94.1169 598.353 91.1077 598.353 Q88.0753 598.353 86.3855 599.857 Q84.7188 601.362 84.7188 604.047 Z\" fill=\"#000000\" fill-rule=\"nonzero\" fill-opacity=\"1\" /><path clip-path=\"url(#clip680)\" d=\"M51.6634 417.609 L59.3023 417.609 L59.3023 391.243 L50.9921 392.91 L50.9921 388.65 L59.256 386.984 L63.9319 386.984 L63.9319 417.609 L71.5707 417.609 L71.5707 421.544 L51.6634 421.544 L51.6634 417.609 Z\" fill=\"#000000\" fill-rule=\"nonzero\" fill-opacity=\"1\" /><path clip-path=\"url(#clip680)\" d=\"M91.0151 390.062 Q87.404 390.062 85.5753 393.627 Q83.7697 397.169 83.7697 404.298 Q83.7697 411.405 85.5753 414.97 Q87.404 418.511 91.0151 418.511 Q94.6493 418.511 96.4548 414.97 Q98.2835 411.405 98.2835 404.298 Q98.2835 397.169 96.4548 393.627 Q94.6493 390.062 91.0151 390.062 M91.0151 386.359 Q96.8252 386.359 99.8808 390.965 Q102.959 395.549 102.959 404.298 Q102.959 413.025 99.8808 417.632 Q96.8252 422.215 91.0151 422.215 Q85.2049 422.215 82.1262 417.632 Q79.0707 413.025 79.0707 404.298 Q79.0707 395.549 82.1262 390.965 Q85.2049 386.359 91.0151 386.359 Z\" fill=\"#000000\" fill-rule=\"nonzero\" fill-opacity=\"1\" /><path clip-path=\"url(#clip680)\" d=\"M53.2606 209.318 L60.8995 209.318 L60.8995 182.953 L52.5893 184.619 L52.5893 180.36 L60.8532 178.693 L65.5291 178.693 L65.5291 209.318 L73.1679 209.318 L73.1679 213.253 L53.2606 213.253 L53.2606 209.318 Z\" fill=\"#000000\" fill-rule=\"nonzero\" fill-opacity=\"1\" /><path clip-path=\"url(#clip680)\" d=\"M86.6401 209.318 L102.959 209.318 L102.959 213.253 L81.0151 213.253 L81.0151 209.318 Q83.6771 206.564 88.2604 201.934 Q92.8669 197.281 94.0475 195.939 Q96.2928 193.416 97.1724 191.679 Q98.0752 189.92 98.0752 188.23 Q98.0752 185.476 96.1308 183.74 Q94.2095 182.004 91.1077 182.004 Q88.9086 182.004 86.4549 182.767 Q84.0244 183.531 81.2466 185.082 L81.2466 180.36 Q84.0707 179.226 86.5243 178.647 Q88.978 178.068 91.0151 178.068 Q96.3854 178.068 99.5798 180.754 Q102.774 183.439 102.774 187.929 Q102.774 190.059 101.964 191.98 Q101.177 193.878 99.0706 196.471 Q98.4919 197.142 95.39 200.36 Q92.2882 203.554 86.6401 209.318 Z\" fill=\"#000000\" fill-rule=\"nonzero\" fill-opacity=\"1\" /><polyline clip-path=\"url(#clip682)\" style=\"stroke:#009af9; stroke-linecap:round; stroke-linejoin:round; stroke-width:4; stroke-opacity:1; fill:none\" points=\"201.614,1445.72 897.776,1445.08 1593.94,970.457 2290.1,87.9763 \"/>\n",
       "<polyline clip-path=\"url(#clip682)\" style=\"stroke:#e26f46; stroke-linecap:round; stroke-linejoin:round; stroke-width:4; stroke-opacity:1; fill:none\" points=\"201.614,1445.72 897.776,1445.72 1593.94,1445.72 2290.1,1445.72 \"/>\n",
       "<path clip-path=\"url(#clip680)\" d=\"M212.753 250.738 L486.563 250.738 L486.563 95.2176 L212.753 95.2176  Z\" fill=\"#ffffff\" fill-rule=\"evenodd\" fill-opacity=\"1\"/>\n",
       "<polyline clip-path=\"url(#clip680)\" style=\"stroke:#000000; stroke-linecap:round; stroke-linejoin:round; stroke-width:4; stroke-opacity:1; fill:none\" points=\"212.753,250.738 486.563,250.738 486.563,95.2176 212.753,95.2176 212.753,250.738 \"/>\n",
       "<polyline clip-path=\"url(#clip680)\" style=\"stroke:#009af9; stroke-linecap:round; stroke-linejoin:round; stroke-width:4; stroke-opacity:1; fill:none\" points=\"237.35,147.058 384.937,147.058 \"/>\n",
       "<path clip-path=\"url(#clip680)\" d=\"M423.377 166.745 Q421.572 171.375 419.859 172.787 Q418.146 174.199 415.275 174.199 L411.873 174.199 L411.873 170.634 L414.373 170.634 Q416.132 170.634 417.104 169.8 Q418.076 168.967 419.257 165.865 L420.021 163.921 L409.535 138.412 L414.048 138.412 L422.15 158.689 L430.252 138.412 L434.766 138.412 L423.377 166.745 Z\" fill=\"#000000\" fill-rule=\"nonzero\" fill-opacity=\"1\" /><path clip-path=\"url(#clip680)\" d=\"M442.058 160.402 L449.696 160.402 L449.696 134.037 L441.386 135.703 L441.386 131.444 L449.65 129.778 L454.326 129.778 L454.326 160.402 L461.965 160.402 L461.965 164.338 L442.058 164.338 L442.058 160.402 Z\" fill=\"#000000\" fill-rule=\"nonzero\" fill-opacity=\"1\" /><polyline clip-path=\"url(#clip680)\" style=\"stroke:#e26f46; stroke-linecap:round; stroke-linejoin:round; stroke-width:4; stroke-opacity:1; fill:none\" points=\"237.35,198.898 384.937,198.898 \"/>\n",
       "<path clip-path=\"url(#clip680)\" d=\"M423.377 218.585 Q421.572 223.215 419.859 224.627 Q418.146 226.039 415.275 226.039 L411.873 226.039 L411.873 222.474 L414.373 222.474 Q416.132 222.474 417.104 221.64 Q418.076 220.807 419.257 217.705 L420.021 215.761 L409.535 190.252 L414.048 190.252 L422.15 210.529 L430.252 190.252 L434.766 190.252 L423.377 218.585 Z\" fill=\"#000000\" fill-rule=\"nonzero\" fill-opacity=\"1\" /><path clip-path=\"url(#clip680)\" d=\"M445.275 212.242 L461.594 212.242 L461.594 216.178 L439.65 216.178 L439.65 212.242 Q442.312 209.488 446.895 204.858 Q451.502 200.205 452.682 198.863 Q454.928 196.34 455.807 194.604 Q456.71 192.844 456.71 191.155 Q456.71 188.4 454.766 186.664 Q452.845 184.928 449.743 184.928 Q447.544 184.928 445.09 185.692 Q442.659 186.455 439.882 188.006 L439.882 183.284 Q442.706 182.15 445.159 181.571 Q447.613 180.993 449.65 180.993 Q455.02 180.993 458.215 183.678 Q461.409 186.363 461.409 190.854 Q461.409 192.983 460.599 194.905 Q459.812 196.803 457.706 199.395 Q457.127 200.067 454.025 203.284 Q450.923 206.479 445.275 212.242 Z\" fill=\"#000000\" fill-rule=\"nonzero\" fill-opacity=\"1\" /></svg>\n"
      ],
      "text/html": [
       "<?xml version=\"1.0\" encoding=\"utf-8\"?>\n",
       "<svg xmlns=\"http://www.w3.org/2000/svg\" xmlns:xlink=\"http://www.w3.org/1999/xlink\" width=\"600\" height=\"400\" viewBox=\"0 0 2400 1600\">\n",
       "<defs>\n",
       "  <clipPath id=\"clip730\">\n",
       "    <rect x=\"0\" y=\"0\" width=\"2400\" height=\"1600\"/>\n",
       "  </clipPath>\n",
       "</defs>\n",
       "<path clip-path=\"url(#clip730)\" d=\"M0 1600 L2400 1600 L2400 0 L0 0  Z\" fill=\"#ffffff\" fill-rule=\"evenodd\" fill-opacity=\"1\"/>\n",
       "<defs>\n",
       "  <clipPath id=\"clip731\">\n",
       "    <rect x=\"480\" y=\"0\" width=\"1681\" height=\"1600\"/>\n",
       "  </clipPath>\n",
       "</defs>\n",
       "<path clip-path=\"url(#clip730)\" d=\"M138.959 1486.45 L2352.76 1486.45 L2352.76 47.2441 L138.959 47.2441  Z\" fill=\"#ffffff\" fill-rule=\"evenodd\" fill-opacity=\"1\"/>\n",
       "<defs>\n",
       "  <clipPath id=\"clip732\">\n",
       "    <rect x=\"138\" y=\"47\" width=\"2215\" height=\"1440\"/>\n",
       "  </clipPath>\n",
       "</defs>\n",
       "<polyline clip-path=\"url(#clip732)\" style=\"stroke:#000000; stroke-linecap:round; stroke-linejoin:round; stroke-width:2; stroke-opacity:0.1; fill:none\" points=\"619.312,1486.45 619.312,47.2441 \"/>\n",
       "<polyline clip-path=\"url(#clip732)\" style=\"stroke:#000000; stroke-linecap:round; stroke-linejoin:round; stroke-width:2; stroke-opacity:0.1; fill:none\" points=\"1176.24,1486.45 1176.24,47.2441 \"/>\n",
       "<polyline clip-path=\"url(#clip732)\" style=\"stroke:#000000; stroke-linecap:round; stroke-linejoin:round; stroke-width:2; stroke-opacity:0.1; fill:none\" points=\"1733.17,1486.45 1733.17,47.2441 \"/>\n",
       "<polyline clip-path=\"url(#clip732)\" style=\"stroke:#000000; stroke-linecap:round; stroke-linejoin:round; stroke-width:2; stroke-opacity:0.1; fill:none\" points=\"2290.1,1486.45 2290.1,47.2441 \"/>\n",
       "<polyline clip-path=\"url(#clip732)\" style=\"stroke:#000000; stroke-linecap:round; stroke-linejoin:round; stroke-width:2; stroke-opacity:0.1; fill:none\" points=\"138.959,1445.72 2352.76,1445.72 \"/>\n",
       "<polyline clip-path=\"url(#clip732)\" style=\"stroke:#000000; stroke-linecap:round; stroke-linejoin:round; stroke-width:2; stroke-opacity:0.1; fill:none\" points=\"138.959,1237.43 2352.76,1237.43 \"/>\n",
       "<polyline clip-path=\"url(#clip732)\" style=\"stroke:#000000; stroke-linecap:round; stroke-linejoin:round; stroke-width:2; stroke-opacity:0.1; fill:none\" points=\"138.959,1029.13 2352.76,1029.13 \"/>\n",
       "<polyline clip-path=\"url(#clip732)\" style=\"stroke:#000000; stroke-linecap:round; stroke-linejoin:round; stroke-width:2; stroke-opacity:0.1; fill:none\" points=\"138.959,820.845 2352.76,820.845 \"/>\n",
       "<polyline clip-path=\"url(#clip732)\" style=\"stroke:#000000; stroke-linecap:round; stroke-linejoin:round; stroke-width:2; stroke-opacity:0.1; fill:none\" points=\"138.959,612.554 2352.76,612.554 \"/>\n",
       "<polyline clip-path=\"url(#clip732)\" style=\"stroke:#000000; stroke-linecap:round; stroke-linejoin:round; stroke-width:2; stroke-opacity:0.1; fill:none\" points=\"138.959,404.264 2352.76,404.264 \"/>\n",
       "<polyline clip-path=\"url(#clip732)\" style=\"stroke:#000000; stroke-linecap:round; stroke-linejoin:round; stroke-width:2; stroke-opacity:0.1; fill:none\" points=\"138.959,195.973 2352.76,195.973 \"/>\n",
       "<polyline clip-path=\"url(#clip730)\" style=\"stroke:#000000; stroke-linecap:round; stroke-linejoin:round; stroke-width:4; stroke-opacity:1; fill:none\" points=\"138.959,1486.45 2352.76,1486.45 \"/>\n",
       "<polyline clip-path=\"url(#clip730)\" style=\"stroke:#000000; stroke-linecap:round; stroke-linejoin:round; stroke-width:4; stroke-opacity:1; fill:none\" points=\"619.312,1486.45 619.312,1467.55 \"/>\n",
       "<polyline clip-path=\"url(#clip730)\" style=\"stroke:#000000; stroke-linecap:round; stroke-linejoin:round; stroke-width:4; stroke-opacity:1; fill:none\" points=\"1176.24,1486.45 1176.24,1467.55 \"/>\n",
       "<polyline clip-path=\"url(#clip730)\" style=\"stroke:#000000; stroke-linecap:round; stroke-linejoin:round; stroke-width:4; stroke-opacity:1; fill:none\" points=\"1733.17,1486.45 1733.17,1467.55 \"/>\n",
       "<polyline clip-path=\"url(#clip730)\" style=\"stroke:#000000; stroke-linecap:round; stroke-linejoin:round; stroke-width:4; stroke-opacity:1; fill:none\" points=\"2290.1,1486.45 2290.1,1467.55 \"/>\n",
       "<path clip-path=\"url(#clip730)\" d=\"M607.483 1518.36 L595.677 1536.81 L607.483 1536.81 L607.483 1518.36 M606.256 1514.29 L612.136 1514.29 L612.136 1536.81 L617.066 1536.81 L617.066 1540.7 L612.136 1540.7 L612.136 1548.85 L607.483 1548.85 L607.483 1540.7 L591.881 1540.7 L591.881 1536.19 L606.256 1514.29 Z\" fill=\"#000000\" fill-rule=\"nonzero\" fill-opacity=\"1\" /><path clip-path=\"url(#clip730)\" d=\"M634.798 1517.37 Q631.186 1517.37 629.358 1520.93 Q627.552 1524.47 627.552 1531.6 Q627.552 1538.71 629.358 1542.27 Q631.186 1545.82 634.798 1545.82 Q638.432 1545.82 640.237 1542.27 Q642.066 1538.71 642.066 1531.6 Q642.066 1524.47 640.237 1520.93 Q638.432 1517.37 634.798 1517.37 M634.798 1513.66 Q640.608 1513.66 643.663 1518.27 Q646.742 1522.85 646.742 1531.6 Q646.742 1540.33 643.663 1544.94 Q640.608 1549.52 634.798 1549.52 Q628.987 1549.52 625.909 1544.94 Q622.853 1540.33 622.853 1531.6 Q622.853 1522.85 625.909 1518.27 Q628.987 1513.66 634.798 1513.66 Z\" fill=\"#000000\" fill-rule=\"nonzero\" fill-opacity=\"1\" /><path clip-path=\"url(#clip730)\" d=\"M1161.65 1529.7 Q1158.5 1529.7 1156.65 1531.86 Q1154.82 1534.01 1154.82 1537.76 Q1154.82 1541.49 1156.65 1543.66 Q1158.5 1545.82 1161.65 1545.82 Q1164.79 1545.82 1166.62 1543.66 Q1168.48 1541.49 1168.48 1537.76 Q1168.48 1534.01 1166.62 1531.86 Q1164.79 1529.7 1161.65 1529.7 M1170.93 1515.05 L1170.93 1519.31 Q1169.17 1518.48 1167.36 1518.04 Q1165.58 1517.6 1163.82 1517.6 Q1159.19 1517.6 1156.74 1520.72 Q1154.31 1523.85 1153.96 1530.17 Q1155.33 1528.15 1157.39 1527.09 Q1159.45 1526 1161.92 1526 Q1167.13 1526 1170.14 1529.17 Q1173.17 1532.32 1173.17 1537.76 Q1173.17 1543.08 1170.03 1546.3 Q1166.88 1549.52 1161.65 1549.52 Q1155.65 1549.52 1152.48 1544.94 Q1149.31 1540.33 1149.31 1531.6 Q1149.31 1523.41 1153.2 1518.55 Q1157.09 1513.66 1163.64 1513.66 Q1165.4 1513.66 1167.18 1514.01 Q1168.98 1514.36 1170.93 1515.05 Z\" fill=\"#000000\" fill-rule=\"nonzero\" fill-opacity=\"1\" /><path clip-path=\"url(#clip730)\" d=\"M1191.23 1517.37 Q1187.62 1517.37 1185.79 1520.93 Q1183.98 1524.47 1183.98 1531.6 Q1183.98 1538.71 1185.79 1542.27 Q1187.62 1545.82 1191.23 1545.82 Q1194.86 1545.82 1196.67 1542.27 Q1198.5 1538.71 1198.5 1531.6 Q1198.5 1524.47 1196.67 1520.93 Q1194.86 1517.37 1191.23 1517.37 M1191.23 1513.66 Q1197.04 1513.66 1200.1 1518.27 Q1203.17 1522.85 1203.17 1531.6 Q1203.17 1540.33 1200.1 1544.94 Q1197.04 1549.52 1191.23 1549.52 Q1185.42 1549.52 1182.34 1544.94 Q1179.29 1540.33 1179.29 1531.6 Q1179.29 1522.85 1182.34 1518.27 Q1185.42 1513.66 1191.23 1513.66 Z\" fill=\"#000000\" fill-rule=\"nonzero\" fill-opacity=\"1\" /><path clip-path=\"url(#clip730)\" d=\"M1718.04 1532.44 Q1714.71 1532.44 1712.79 1534.22 Q1710.89 1536 1710.89 1539.13 Q1710.89 1542.25 1712.79 1544.03 Q1714.71 1545.82 1718.04 1545.82 Q1721.38 1545.82 1723.3 1544.03 Q1725.22 1542.23 1725.22 1539.13 Q1725.22 1536 1723.3 1534.22 Q1721.4 1532.44 1718.04 1532.44 M1713.37 1530.45 Q1710.36 1529.7 1708.67 1527.64 Q1707 1525.58 1707 1522.62 Q1707 1518.48 1709.94 1516.07 Q1712.91 1513.66 1718.04 1513.66 Q1723.21 1513.66 1726.15 1516.07 Q1729.09 1518.48 1729.09 1522.62 Q1729.09 1525.58 1727.4 1527.64 Q1725.73 1529.7 1722.74 1530.45 Q1726.12 1531.23 1728 1533.52 Q1729.9 1535.82 1729.9 1539.13 Q1729.9 1544.15 1726.82 1546.83 Q1723.76 1549.52 1718.04 1549.52 Q1712.33 1549.52 1709.25 1546.83 Q1706.19 1544.15 1706.19 1539.13 Q1706.19 1535.82 1708.09 1533.52 Q1709.99 1531.23 1713.37 1530.45 M1711.66 1523.06 Q1711.66 1525.75 1713.32 1527.25 Q1715.01 1528.76 1718.04 1528.76 Q1721.05 1528.76 1722.74 1527.25 Q1724.46 1525.75 1724.46 1523.06 Q1724.46 1520.38 1722.74 1518.87 Q1721.05 1517.37 1718.04 1517.37 Q1715.01 1517.37 1713.32 1518.87 Q1711.66 1520.38 1711.66 1523.06 Z\" fill=\"#000000\" fill-rule=\"nonzero\" fill-opacity=\"1\" /><path clip-path=\"url(#clip730)\" d=\"M1748.21 1517.37 Q1744.59 1517.37 1742.77 1520.93 Q1740.96 1524.47 1740.96 1531.6 Q1740.96 1538.71 1742.77 1542.27 Q1744.59 1545.82 1748.21 1545.82 Q1751.84 1545.82 1753.65 1542.27 Q1755.47 1538.71 1755.47 1531.6 Q1755.47 1524.47 1753.65 1520.93 Q1751.84 1517.37 1748.21 1517.37 M1748.21 1513.66 Q1754.02 1513.66 1757.07 1518.27 Q1760.15 1522.85 1760.15 1531.6 Q1760.15 1540.33 1757.07 1544.94 Q1754.02 1549.52 1748.21 1549.52 Q1742.4 1549.52 1739.32 1544.94 Q1736.26 1540.33 1736.26 1531.6 Q1736.26 1522.85 1739.32 1518.27 Q1742.4 1513.66 1748.21 1513.66 Z\" fill=\"#000000\" fill-rule=\"nonzero\" fill-opacity=\"1\" /><path clip-path=\"url(#clip730)\" d=\"M2249.71 1544.91 L2257.35 1544.91 L2257.35 1518.55 L2249.04 1520.21 L2249.04 1515.95 L2257.3 1514.29 L2261.98 1514.29 L2261.98 1544.91 L2269.62 1544.91 L2269.62 1548.85 L2249.71 1548.85 L2249.71 1544.91 Z\" fill=\"#000000\" fill-rule=\"nonzero\" fill-opacity=\"1\" /><path clip-path=\"url(#clip730)\" d=\"M2289.06 1517.37 Q2285.45 1517.37 2283.62 1520.93 Q2281.81 1524.47 2281.81 1531.6 Q2281.81 1538.71 2283.62 1542.27 Q2285.45 1545.82 2289.06 1545.82 Q2292.69 1545.82 2294.5 1542.27 Q2296.33 1538.71 2296.33 1531.6 Q2296.33 1524.47 2294.5 1520.93 Q2292.69 1517.37 2289.06 1517.37 M2289.06 1513.66 Q2294.87 1513.66 2297.93 1518.27 Q2301 1522.85 2301 1531.6 Q2301 1540.33 2297.93 1544.94 Q2294.87 1549.52 2289.06 1549.52 Q2283.25 1549.52 2280.17 1544.94 Q2277.12 1540.33 2277.12 1531.6 Q2277.12 1522.85 2280.17 1518.27 Q2283.25 1513.66 2289.06 1513.66 Z\" fill=\"#000000\" fill-rule=\"nonzero\" fill-opacity=\"1\" /><path clip-path=\"url(#clip730)\" d=\"M2319.22 1517.37 Q2315.61 1517.37 2313.78 1520.93 Q2311.98 1524.47 2311.98 1531.6 Q2311.98 1538.71 2313.78 1542.27 Q2315.61 1545.82 2319.22 1545.82 Q2322.86 1545.82 2324.66 1542.27 Q2326.49 1538.71 2326.49 1531.6 Q2326.49 1524.47 2324.66 1520.93 Q2322.86 1517.37 2319.22 1517.37 M2319.22 1513.66 Q2325.03 1513.66 2328.09 1518.27 Q2331.17 1522.85 2331.17 1531.6 Q2331.17 1540.33 2328.09 1544.94 Q2325.03 1549.52 2319.22 1549.52 Q2313.41 1549.52 2310.33 1544.94 Q2307.28 1540.33 2307.28 1531.6 Q2307.28 1522.85 2310.33 1518.27 Q2313.41 1513.66 2319.22 1513.66 Z\" fill=\"#000000\" fill-rule=\"nonzero\" fill-opacity=\"1\" /><polyline clip-path=\"url(#clip730)\" style=\"stroke:#000000; stroke-linecap:round; stroke-linejoin:round; stroke-width:4; stroke-opacity:1; fill:none\" points=\"138.959,1486.45 138.959,47.2441 \"/>\n",
       "<polyline clip-path=\"url(#clip730)\" style=\"stroke:#000000; stroke-linecap:round; stroke-linejoin:round; stroke-width:4; stroke-opacity:1; fill:none\" points=\"138.959,1445.72 157.857,1445.72 \"/>\n",
       "<polyline clip-path=\"url(#clip730)\" style=\"stroke:#000000; stroke-linecap:round; stroke-linejoin:round; stroke-width:4; stroke-opacity:1; fill:none\" points=\"138.959,1237.43 157.857,1237.43 \"/>\n",
       "<polyline clip-path=\"url(#clip730)\" style=\"stroke:#000000; stroke-linecap:round; stroke-linejoin:round; stroke-width:4; stroke-opacity:1; fill:none\" points=\"138.959,1029.13 157.857,1029.13 \"/>\n",
       "<polyline clip-path=\"url(#clip730)\" style=\"stroke:#000000; stroke-linecap:round; stroke-linejoin:round; stroke-width:4; stroke-opacity:1; fill:none\" points=\"138.959,820.845 157.857,820.845 \"/>\n",
       "<polyline clip-path=\"url(#clip730)\" style=\"stroke:#000000; stroke-linecap:round; stroke-linejoin:round; stroke-width:4; stroke-opacity:1; fill:none\" points=\"138.959,612.554 157.857,612.554 \"/>\n",
       "<polyline clip-path=\"url(#clip730)\" style=\"stroke:#000000; stroke-linecap:round; stroke-linejoin:round; stroke-width:4; stroke-opacity:1; fill:none\" points=\"138.959,404.264 157.857,404.264 \"/>\n",
       "<polyline clip-path=\"url(#clip730)\" style=\"stroke:#000000; stroke-linecap:round; stroke-linejoin:round; stroke-width:4; stroke-opacity:1; fill:none\" points=\"138.959,195.973 157.857,195.973 \"/>\n",
       "<path clip-path=\"url(#clip730)\" d=\"M91.0151 1431.51 Q87.404 1431.51 85.5753 1435.08 Q83.7697 1438.62 83.7697 1445.75 Q83.7697 1452.86 85.5753 1456.42 Q87.404 1459.96 91.0151 1459.96 Q94.6493 1459.96 96.4548 1456.42 Q98.2835 1452.86 98.2835 1445.75 Q98.2835 1438.62 96.4548 1435.08 Q94.6493 1431.51 91.0151 1431.51 M91.0151 1427.81 Q96.8252 1427.81 99.8808 1432.42 Q102.959 1437 102.959 1445.75 Q102.959 1454.48 99.8808 1459.08 Q96.8252 1463.67 91.0151 1463.67 Q85.2049 1463.67 82.1262 1459.08 Q79.0707 1454.48 79.0707 1445.75 Q79.0707 1437 82.1262 1432.42 Q85.2049 1427.81 91.0151 1427.81 Z\" fill=\"#000000\" fill-rule=\"nonzero\" fill-opacity=\"1\" /><path clip-path=\"url(#clip730)\" d=\"M86.6401 1250.77 L102.959 1250.77 L102.959 1254.71 L81.0151 1254.71 L81.0151 1250.77 Q83.6771 1248.02 88.2604 1243.39 Q92.8669 1238.73 94.0475 1237.39 Q96.2928 1234.87 97.1724 1233.13 Q98.0752 1231.37 98.0752 1229.68 Q98.0752 1226.93 96.1308 1225.19 Q94.2095 1223.46 91.1077 1223.46 Q88.9086 1223.46 86.4549 1224.22 Q84.0244 1224.98 81.2466 1226.53 L81.2466 1221.81 Q84.0707 1220.68 86.5243 1220.1 Q88.978 1219.52 91.0151 1219.52 Q96.3854 1219.52 99.5798 1222.21 Q102.774 1224.89 102.774 1229.38 Q102.774 1231.51 101.964 1233.43 Q101.177 1235.33 99.0706 1237.92 Q98.4919 1238.59 95.39 1241.81 Q92.2882 1245.01 86.6401 1250.77 Z\" fill=\"#000000\" fill-rule=\"nonzero\" fill-opacity=\"1\" /><path clip-path=\"url(#clip730)\" d=\"M93.3762 1015.93 L81.5707 1034.38 L93.3762 1034.38 L93.3762 1015.93 M92.1493 1011.85 L98.0289 1011.85 L98.0289 1034.38 L102.959 1034.38 L102.959 1038.27 L98.0289 1038.27 L98.0289 1046.41 L93.3762 1046.41 L93.3762 1038.27 L77.7744 1038.27 L77.7744 1033.75 L92.1493 1011.85 Z\" fill=\"#000000\" fill-rule=\"nonzero\" fill-opacity=\"1\" /><path clip-path=\"url(#clip730)\" d=\"M91.4317 818.981 Q88.2836 818.981 86.4318 821.134 Q84.6031 823.287 84.6031 827.037 Q84.6031 830.763 86.4318 832.939 Q88.2836 835.092 91.4317 835.092 Q94.5799 835.092 96.4085 832.939 Q98.2604 830.763 98.2604 827.037 Q98.2604 823.287 96.4085 821.134 Q94.5799 818.981 91.4317 818.981 M100.714 804.328 L100.714 808.588 Q98.9548 807.754 97.1493 807.315 Q95.3669 806.875 93.6076 806.875 Q88.978 806.875 86.5243 810 Q84.0938 813.125 83.7466 819.444 Q85.1123 817.43 87.1725 816.365 Q89.2327 815.277 91.7095 815.277 Q96.9178 815.277 99.927 818.449 Q102.959 821.597 102.959 827.037 Q102.959 832.361 99.8113 835.578 Q96.6632 838.796 91.4317 838.796 Q85.4364 838.796 82.2651 834.213 Q79.0938 829.606 79.0938 820.879 Q79.0938 812.685 82.9827 807.824 Q86.8716 802.94 93.4225 802.94 Q95.1817 802.94 96.9641 803.287 Q98.7696 803.634 100.714 804.328 Z\" fill=\"#000000\" fill-rule=\"nonzero\" fill-opacity=\"1\" /><path clip-path=\"url(#clip730)\" d=\"M91.1077 613.422 Q87.7743 613.422 85.8531 615.205 Q83.9549 616.987 83.9549 620.112 Q83.9549 623.237 85.8531 625.019 Q87.7743 626.802 91.1077 626.802 Q94.441 626.802 96.3623 625.019 Q98.2835 623.214 98.2835 620.112 Q98.2835 616.987 96.3623 615.205 Q94.4641 613.422 91.1077 613.422 M86.4318 611.431 Q83.4225 610.691 81.7327 608.631 Q80.066 606.57 80.066 603.607 Q80.066 599.464 83.0058 597.057 Q85.9688 594.649 91.1077 594.649 Q96.2697 594.649 99.2095 597.057 Q102.149 599.464 102.149 603.607 Q102.149 606.57 100.459 608.631 Q98.7928 610.691 95.8067 611.431 Q99.1863 612.218 101.061 614.51 Q102.959 616.802 102.959 620.112 Q102.959 625.135 99.8808 627.82 Q96.8252 630.505 91.1077 630.505 Q85.3901 630.505 82.3114 627.82 Q79.2559 625.135 79.2559 620.112 Q79.2559 616.802 81.154 614.51 Q83.0521 612.218 86.4318 611.431 M84.7188 604.047 Q84.7188 606.732 86.3855 608.237 Q88.0753 609.742 91.1077 609.742 Q94.1169 609.742 95.8067 608.237 Q97.5197 606.732 97.5197 604.047 Q97.5197 601.362 95.8067 599.857 Q94.1169 598.353 91.1077 598.353 Q88.0753 598.353 86.3855 599.857 Q84.7188 601.362 84.7188 604.047 Z\" fill=\"#000000\" fill-rule=\"nonzero\" fill-opacity=\"1\" /><path clip-path=\"url(#clip730)\" d=\"M51.6634 417.609 L59.3023 417.609 L59.3023 391.243 L50.9921 392.91 L50.9921 388.65 L59.256 386.984 L63.9319 386.984 L63.9319 417.609 L71.5707 417.609 L71.5707 421.544 L51.6634 421.544 L51.6634 417.609 Z\" fill=\"#000000\" fill-rule=\"nonzero\" fill-opacity=\"1\" /><path clip-path=\"url(#clip730)\" d=\"M91.0151 390.062 Q87.404 390.062 85.5753 393.627 Q83.7697 397.169 83.7697 404.298 Q83.7697 411.405 85.5753 414.97 Q87.404 418.511 91.0151 418.511 Q94.6493 418.511 96.4548 414.97 Q98.2835 411.405 98.2835 404.298 Q98.2835 397.169 96.4548 393.627 Q94.6493 390.062 91.0151 390.062 M91.0151 386.359 Q96.8252 386.359 99.8808 390.965 Q102.959 395.549 102.959 404.298 Q102.959 413.025 99.8808 417.632 Q96.8252 422.215 91.0151 422.215 Q85.2049 422.215 82.1262 417.632 Q79.0707 413.025 79.0707 404.298 Q79.0707 395.549 82.1262 390.965 Q85.2049 386.359 91.0151 386.359 Z\" fill=\"#000000\" fill-rule=\"nonzero\" fill-opacity=\"1\" /><path clip-path=\"url(#clip730)\" d=\"M53.2606 209.318 L60.8995 209.318 L60.8995 182.953 L52.5893 184.619 L52.5893 180.36 L60.8532 178.693 L65.5291 178.693 L65.5291 209.318 L73.1679 209.318 L73.1679 213.253 L53.2606 213.253 L53.2606 209.318 Z\" fill=\"#000000\" fill-rule=\"nonzero\" fill-opacity=\"1\" /><path clip-path=\"url(#clip730)\" d=\"M86.6401 209.318 L102.959 209.318 L102.959 213.253 L81.0151 213.253 L81.0151 209.318 Q83.6771 206.564 88.2604 201.934 Q92.8669 197.281 94.0475 195.939 Q96.2928 193.416 97.1724 191.679 Q98.0752 189.92 98.0752 188.23 Q98.0752 185.476 96.1308 183.74 Q94.2095 182.004 91.1077 182.004 Q88.9086 182.004 86.4549 182.767 Q84.0244 183.531 81.2466 185.082 L81.2466 180.36 Q84.0707 179.226 86.5243 178.647 Q88.978 178.068 91.0151 178.068 Q96.3854 178.068 99.5798 180.754 Q102.774 183.439 102.774 187.929 Q102.774 190.059 101.964 191.98 Q101.177 193.878 99.0706 196.471 Q98.4919 197.142 95.39 200.36 Q92.2882 203.554 86.6401 209.318 Z\" fill=\"#000000\" fill-rule=\"nonzero\" fill-opacity=\"1\" /><polyline clip-path=\"url(#clip732)\" style=\"stroke:#009af9; stroke-linecap:round; stroke-linejoin:round; stroke-width:4; stroke-opacity:1; fill:none\" points=\"201.614,1445.72 897.776,1445.08 1593.94,970.457 2290.1,87.9763 \"/>\n",
       "<polyline clip-path=\"url(#clip732)\" style=\"stroke:#e26f46; stroke-linecap:round; stroke-linejoin:round; stroke-width:4; stroke-opacity:1; fill:none\" points=\"201.614,1445.72 897.776,1445.72 1593.94,1445.72 2290.1,1445.72 \"/>\n",
       "<path clip-path=\"url(#clip730)\" d=\"M212.753 250.738 L486.563 250.738 L486.563 95.2176 L212.753 95.2176  Z\" fill=\"#ffffff\" fill-rule=\"evenodd\" fill-opacity=\"1\"/>\n",
       "<polyline clip-path=\"url(#clip730)\" style=\"stroke:#000000; stroke-linecap:round; stroke-linejoin:round; stroke-width:4; stroke-opacity:1; fill:none\" points=\"212.753,250.738 486.563,250.738 486.563,95.2176 212.753,95.2176 212.753,250.738 \"/>\n",
       "<polyline clip-path=\"url(#clip730)\" style=\"stroke:#009af9; stroke-linecap:round; stroke-linejoin:round; stroke-width:4; stroke-opacity:1; fill:none\" points=\"237.35,147.058 384.937,147.058 \"/>\n",
       "<path clip-path=\"url(#clip730)\" d=\"M423.377 166.745 Q421.572 171.375 419.859 172.787 Q418.146 174.199 415.275 174.199 L411.873 174.199 L411.873 170.634 L414.373 170.634 Q416.132 170.634 417.104 169.8 Q418.076 168.967 419.257 165.865 L420.021 163.921 L409.535 138.412 L414.048 138.412 L422.15 158.689 L430.252 138.412 L434.766 138.412 L423.377 166.745 Z\" fill=\"#000000\" fill-rule=\"nonzero\" fill-opacity=\"1\" /><path clip-path=\"url(#clip730)\" d=\"M442.058 160.402 L449.696 160.402 L449.696 134.037 L441.386 135.703 L441.386 131.444 L449.65 129.778 L454.326 129.778 L454.326 160.402 L461.965 160.402 L461.965 164.338 L442.058 164.338 L442.058 160.402 Z\" fill=\"#000000\" fill-rule=\"nonzero\" fill-opacity=\"1\" /><polyline clip-path=\"url(#clip730)\" style=\"stroke:#e26f46; stroke-linecap:round; stroke-linejoin:round; stroke-width:4; stroke-opacity:1; fill:none\" points=\"237.35,198.898 384.937,198.898 \"/>\n",
       "<path clip-path=\"url(#clip730)\" d=\"M423.377 218.585 Q421.572 223.215 419.859 224.627 Q418.146 226.039 415.275 226.039 L411.873 226.039 L411.873 222.474 L414.373 222.474 Q416.132 222.474 417.104 221.64 Q418.076 220.807 419.257 217.705 L420.021 215.761 L409.535 190.252 L414.048 190.252 L422.15 210.529 L430.252 190.252 L434.766 190.252 L423.377 218.585 Z\" fill=\"#000000\" fill-rule=\"nonzero\" fill-opacity=\"1\" /><path clip-path=\"url(#clip730)\" d=\"M445.275 212.242 L461.594 212.242 L461.594 216.178 L439.65 216.178 L439.65 212.242 Q442.312 209.488 446.895 204.858 Q451.502 200.205 452.682 198.863 Q454.928 196.34 455.807 194.604 Q456.71 192.844 456.71 191.155 Q456.71 188.4 454.766 186.664 Q452.845 184.928 449.743 184.928 Q447.544 184.928 445.09 185.692 Q442.659 186.455 439.882 188.006 L439.882 183.284 Q442.706 182.15 445.159 181.571 Q447.613 180.993 449.65 180.993 Q455.02 180.993 458.215 183.678 Q461.409 186.363 461.409 190.854 Q461.409 192.983 460.599 194.905 Q459.812 196.803 457.706 199.395 Q457.127 200.067 454.025 203.284 Q450.923 206.479 445.275 212.242 Z\" fill=\"#000000\" fill-rule=\"nonzero\" fill-opacity=\"1\" /></svg>\n"
      ]
     },
     "execution_count": 69,
     "metadata": {},
     "output_type": "execute_result"
    }
   ],
   "source": [
    "# TODO: plot the error norm(A*(A\\b) - b) for the perturbed and unperturbed badmatrix(n).\n",
    "# What do you observe?\n",
    "ns = [25, 50, 75, 100]\n",
    "errors1 = zeros(length(ns))\n",
    "errors2 = zeros(length(ns))\n",
    "for i in 1:length(ns)\n",
    "    n = ns[i]\n",
    "    A = badmatrix(n)\n",
    "    b = randn(n)\n",
    "    errors1[i] = norm(A * (A \\ b) - b)\n",
    "\n",
    "    A += 10.0 ^ (-15) * randn(n, n)\n",
    "    errors2[i] = norm(A * (A \\ b) - b)\n",
    "end\n",
    "\n",
    "plot(ns, errors1)\n",
    "plot!(ns, errors2)"
   ]
  },
  {
   "cell_type": "markdown",
   "metadata": {},
   "source": [
    "-----"
   ]
  },
  {
   "cell_type": "markdown",
   "metadata": {},
   "source": [
    "## III.3 Cholesky factorisation"
   ]
  },
  {
   "cell_type": "markdown",
   "metadata": {},
   "source": [
    "The Cholesky factorisation is a special case of LU factorisation for the case\n",
    "when a matrix is symmetric positive definite (SPD). Hidden in the proof that a Cholesky factorisation\n",
    "exists if and only if the matrix is SPD is a simple algorithm for computing it:"
   ]
  },
  {
   "cell_type": "code",
   "execution_count": 70,
   "metadata": {},
   "outputs": [
    {
     "data": {
      "text/plain": [
       "\u001b[32m\u001b[1mTest Passed\u001b[22m\u001b[39m"
      ]
     },
     "execution_count": 70,
     "metadata": {},
     "output_type": "execute_result"
    }
   ],
   "source": [
    "function mycholesky(A)\n",
    "    T = eltype(A)\n",
    "    m,n = size(A)\n",
    "    if n ≠ m\n",
    "        error(\"Matrix must be square\")\n",
    "    end\n",
    "    if A ≠ A'\n",
    "        error(\"Matrix must be symmetric\")\n",
    "    end\n",
    "\n",
    "    L = LowerTriangular(zeros(T,n,n)) # a lower triangular matrix that at the end will satisfy L'L\n",
    "    Aⱼ = copy(A)\n",
    "    for j = 1:n\n",
    "        α,𝐯 = Aⱼ[1,1],Aⱼ[2:end,1]\n",
    "        if α ≤ 0\n",
    "            error(\"Matrix is not SPD\") # this error would be a proof that the matrix is not SPD, if done rigorously\n",
    "        end\n",
    "        L[j,j] = sqrt(α)\n",
    "        L[j+1:end,j] = 𝐯/sqrt(α)\n",
    "\n",
    "        # induction part\n",
    "        K = Aⱼ[2:end,2:end] # drop first row and column of A\n",
    "        Aⱼ = K - 𝐯*𝐯'/α\n",
    "    end\n",
    "    L\n",
    "end\n",
    "\n",
    "A = Symmetric(rand(100,100) + 100I) # Symmetric takes in a matrix and produces a symmetric version using the upper-triangular part.\n",
    "L = mycholesky(A)\n",
    "@test A ≈ L*L'"
   ]
  },
  {
   "cell_type": "markdown",
   "metadata": {},
   "source": [
    "With exact arithmetic algorithm succeeds if and only if $A$ is symmetric positive definite.\n",
    "With floating point errors this is not necessarily the case. (One could run it with interval arithmetic\n",
    "but that would only prove a matrix is SPD if the algorithm succeeded, failure could be caused by\n",
    "rounding.)"
   ]
  },
  {
   "cell_type": "markdown",
   "metadata": {},
   "source": [
    "In practice one would normally use the inbuilt `cholesky` function as follows:"
   ]
  },
  {
   "cell_type": "code",
   "execution_count": 71,
   "metadata": {},
   "outputs": [
    {
     "data": {
      "text/plain": [
       "\u001b[32m\u001b[1mTest Passed\u001b[22m\u001b[39m"
      ]
     },
     "execution_count": 71,
     "metadata": {},
     "output_type": "execute_result"
    }
   ],
   "source": [
    "L̃ = cholesky(A).L\n",
    "@test L̃ ≈ L # our implementation matches (approximately) the high-performance implementation."
   ]
  },
  {
   "cell_type": "markdown",
   "metadata": {},
   "source": [
    "In the following problem we consider a Cholesky factorisation for tridiagonal matrices. Since we are assuming the\n",
    "matrix is symmetric, we will use a special type `SymTridiagonal` that captures the symmetry.\n",
    "In particular, `SymTridiagonal(dv, ev) == Tridiagonal(ev, dv, ev)`."
   ]
  },
  {
   "cell_type": "markdown",
   "metadata": {},
   "source": [
    "-----"
   ]
  },
  {
   "cell_type": "markdown",
   "metadata": {},
   "source": [
    "**Problem 3** Use `mycholesky` or `cholesky` to deduce if the following matrices are SPD.\n",
    "$$\n",
    "\\begin{bmatrix} 1 & -1  \\\\\n",
    "-1 & 3\n",
    "\\end{bmatrix}, \\begin{bmatrix} 1 & 2 & 2  \\\\\n",
    "2 & 1 & 2\\\\\n",
    "2 & 2 & 1\n",
    "\\end{bmatrix}, \\begin{bmatrix} 3 & 2 & 1  \\\\\n",
    "2 & 4 & 2\\\\\n",
    "1 & 2 & 5\n",
    "\\end{bmatrix},\n",
    "\\begin{bmatrix} 4 & 2 & 2 & 1  \\\\\n",
    "2 & 4 & 2 & 2\\\\\n",
    "2 & 2 & 4 & 2 \\\\\n",
    "1 & 2 & 2 & 4\n",
    "\\end{bmatrix}\n",
    "$$"
   ]
  },
  {
   "cell_type": "code",
   "execution_count": 79,
   "metadata": {},
   "outputs": [
    {
     "data": {
      "text/plain": [
       "2×2 LowerTriangular{Float64, Matrix{Float64}}:\n",
       "  1.0   ⋅ \n",
       " -1.0  1.41421"
      ]
     },
     "execution_count": 79,
     "metadata": {},
     "output_type": "execute_result"
    }
   ],
   "source": [
    "# TODO: Check if you got PS5 Q1 correct using a computer to do the Cholesky factorisation.\n",
    "A = [1 -1;\n",
    "     -1 3]\n",
    "cholesky(A).L"
   ]
  },
  {
   "cell_type": "markdown",
   "metadata": {},
   "source": [
    "**Problem 4** Complete the following\n",
    "implementation of `mycholesky` to return a `Bidiagonal` cholesky factor in $O(n)$ operations."
   ]
  },
  {
   "cell_type": "code",
   "execution_count": 98,
   "metadata": {},
   "outputs": [
    {
     "data": {
      "text/plain": [
       "\u001b[32m\u001b[1mTest Passed\u001b[22m\u001b[39m"
      ]
     },
     "execution_count": 98,
     "metadata": {},
     "output_type": "execute_result"
    }
   ],
   "source": [
    "# return a Bidiagonal L such that L'L == A (up to machine precision)\n",
    "# You are allowed to change A\n",
    "function mycholesky(A::SymTridiagonal)\n",
    "    # 1 8 0 0 0\n",
    "    # 8 2 9 0 0\n",
    "    # 0 9 3 8 0\n",
    "    # 0 0 8 4 9\n",
    "    # 0 0 0 9 5\n",
    "    \n",
    "    d = A.dv # diagonal entries of A\n",
    "    u = A.ev # sub/super-diagonal entries of A\n",
    "    T = float(eltype(A)) # return type, make float in case A has Ints\n",
    "    n = length(d)\n",
    "    ld = zeros(T, n) # diagonal entries of L\n",
    "    ll = zeros(T, n-1) # sub-diagonal entries of L\n",
    "\n",
    "    # TODO: populate the diagonal entries ld and the sub-diagonal entries ll\n",
    "    # of L so that L*L' ≈ A\n",
    "    α = d[1]\n",
    "    for i = 1:n-1\n",
    "        ld[i] = √α\n",
    "        ll[i] = u[i] / √α\n",
    "        α = d[i + 1] - (u[i] ^ 2) / α\n",
    "    end\n",
    "    ld[n] = √α\n",
    "\n",
    "    Bidiagonal(ld, ll, :L)\n",
    "end\n",
    "\n",
    "n = 1000\n",
    "A = SymTridiagonal(2*ones(n),-ones(n-1))\n",
    "L = mycholesky(A)\n",
    "@test L isa Bidiagonal\n",
    "@test L*L' ≈ A"
   ]
  },
  {
   "cell_type": "markdown",
   "metadata": {},
   "source": [
    "---\n",
    "\n",
    "*This notebook was generated using [Literate.jl](https://github.com/fredrikekre/Literate.jl).*"
   ]
  }
 ],
 "metadata": {
  "kernelspec": {
   "display_name": "Julia 1.11.2",
   "language": "julia",
   "name": "julia-1.11"
  },
  "language_info": {
   "file_extension": ".jl",
   "mimetype": "application/julia",
   "name": "julia",
   "version": "1.11.2"
  }
 },
 "nbformat": 4,
 "nbformat_minor": 4
}
